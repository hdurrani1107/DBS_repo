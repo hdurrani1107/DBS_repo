{
 "cells": [
  {
   "cell_type": "markdown",
   "id": "1a60bb00-4ba7-4fdc-8f62-a2c46dd628b3",
   "metadata": {},
   "source": [
    "# EC602 Fall 2024 Assignment Two\n",
    "\n",
    "Posted: September 24, 2024 (in this document)\n",
    "\n",
    "Due: October 8, 2024\n"
   ]
  },
  {
   "cell_type": "markdown",
   "id": "e94e0054-02d8-4571-8104-f3f7a57a7282",
   "metadata": {},
   "source": [
    "# Grading System\n",
    "\n",
    "In this assignment, we will develop a grading system for a \n",
    "collection of students in a single class. All information about the problem\n",
    "will be specified in language-independent file formats such as JSON and CSV.\n",
    "\n",
    "There will be several parts to this assignment, as follows\n",
    "\n",
    "Students\n",
    "--------\n",
    "- specification of the students\n",
    "- generation of a random student database from this specification\n",
    "\n",
    "Assessments\n",
    "-----------\n",
    "- specification of the assessments for this class \n",
    "- generation of data files containing an example of grades for all students and all assessments\n",
    "\n",
    "\n",
    "Grading\n",
    "-------\n",
    "- specification of the final letter grade policy\n",
    "- generation of a final grade document\n",
    "\n"
   ]
  },
  {
   "cell_type": "markdown",
   "id": "69d44470-f916-41fc-a88b-6da19babf436",
   "metadata": {},
   "source": [
    "# Students\n",
    "\n",
    "Each student has the following information\n",
    "\n",
    "- a first name\n",
    "- a last name\n",
    "- a student ID \"number\"\n",
    "- a current GPA (number between 0.0 and 4.0)\n",
    "- a field indicating whether they are \"Enrolled\" or \"Dropped\"\n",
    "\n",
    "Based on the values specified in `student_information.json` you will generate\n",
    "a student database called \"student_database.csv\""
   ]
  },
  {
   "cell_type": "markdown",
   "id": "ea8bb09e-4767-4212-9c91-25dae4224858",
   "metadata": {},
   "source": [
    "# Assessments\n",
    "\n",
    "This course is organized around the following possible assessment types\n",
    "- homework\n",
    "- laboratory\n",
    "- quiz\n",
    "- test\n",
    "- exam\n",
    "- project\n",
    "- participation\n",
    "\n",
    "For each possible component, the following values will be specified:\n",
    "\n",
    "- the number of each component\n",
    "- the total grade for this component, or, an array of values for each component\n",
    "- the maximum and minimum grades for this assignment\n",
    "- completion rates for \"Enrolled\" and \"Dropped\" students\n",
    "- a distribution of grades, specified as a mixed Gaussian, like this: weight, mean, STD\n",
    "\n",
    "Based on the information in this database, you should generate a CSV file for each assessment, including\n",
    "\n",
    "- the student ID\n",
    "- the grade\n",
    "\n",
    "Students who did not take the assessment can either be listed with a \"fake grade\" like \"-1\" or they can be missing -- your choice.\n",
    "\n",
    "\n",
    "To make the results more realistic, if there is a mixed gaussian distribution specified, use the incoming students GPA (rank) to select the appropriate Gaussian distribution for that students results.\n",
    "\n",
    "You will need to choose a file naming system so that you will know how to read in the results for final grading."
   ]
  },
  {
   "cell_type": "markdown",
   "id": "493e9c74-9e46-4703-abff-4bbe6be0dca3",
   "metadata": {},
   "source": [
    "Example assessment database\n",
    "----------------------------\n",
    "\n",
    "See `assessment_information.json`"
   ]
  },
  {
   "cell_type": "markdown",
   "id": "88b1269d-4615-4323-84e8-3e1b7742ca28",
   "metadata": {},
   "source": [
    "# Grading\n",
    "\n",
    "Develop a algorithm for assigning a grade out of 100 and a final letter grade for each student.\n",
    "\n",
    "Please use the Boston University system, as follows\n",
    "\n",
    "Valid letter grades: F, D, C-, C, C+, B-, B, B+, A-, A\n",
    "\n",
    "Policy\n",
    "------\n",
    "\n",
    "Develop policies for missing grades, which should include:\n",
    "\n",
    "- for a particular assessment, best X out of Y will be counted\n",
    "- for a particular assessment, any missing grades will be estimated based on expected values from the students other work and the work of the missing assessments\n",
    "\n",
    "\n",
    "Assign grades as you see fit, with the following restrictions\n",
    "\n",
    "- the grades must be assigned in ascending order: students with higher grades cannot be assigned a lower letter grade\n",
    "\n",
    "\n",
    "Visualization\n",
    "-------------\n",
    "\n",
    "Produce charts that illustrate the grades, such as\n",
    "\n",
    "- histograms of the letter grades\n",
    "- scatter plots of achieved grade in this class\n"
   ]
  },
  {
   "cell_type": "markdown",
   "id": "b4974888-ddd0-4d93-80f6-f79e361967f1",
   "metadata": {},
   "source": [
    "# Bonus / Challenges\n",
    "\n",
    "- solve the problem without using any for loops\n",
    "- include in your solution a description of the various ways to tackle a particular problem, along with descriptions of your methods (like you are writing a book on how to do this problem).\n",
    "- develop a JSON format for your grading policy\n",
    "- try to evaluate how well your grades in this class match to the incoming GPAs of your students."
   ]
  },
  {
   "cell_type": "code",
   "execution_count": null,
   "id": "3b505c42-d8ab-40dd-a423-b7381a4da50d",
   "metadata": {},
   "outputs": [],
   "source": []
  }
 ],
 "metadata": {
  "kernelspec": {
   "display_name": "Python 3 (ipykernel)",
   "language": "python",
   "name": "python3"
  },
  "language_info": {
   "codemirror_mode": {
    "name": "ipython",
    "version": 3
   },
   "file_extension": ".py",
   "mimetype": "text/x-python",
   "name": "python",
   "nbconvert_exporter": "python",
   "pygments_lexer": "ipython3",
   "version": "3.11.8"
  }
 },
 "nbformat": 4,
 "nbformat_minor": 5
}
