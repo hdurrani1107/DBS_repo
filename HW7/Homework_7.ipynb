{
 "cells": [
  {
   "cell_type": "code",
   "execution_count": 16,
   "metadata": {},
   "outputs": [],
   "source": [
    "# Copyright 2024 Stephan Bscheider sbsch@bu.edu\n",
    "# Copyright 2024 Humzah Durrani hhd8@bu.edu\n",
    "# Copyright 2024 Alex Tianji Sun tianjis@bu.edu"
   ]
  },
  {
   "cell_type": "code",
   "execution_count": 20,
   "metadata": {
    "colab": {
     "base_uri": "https://localhost:8080/"
    },
    "id": "OwW2TwHJjbyH",
    "outputId": "1167d66c-1aae-42b2-8bc7-b04e734cf5fc"
   },
   "outputs": [],
   "source": [
    "import contextlib\n",
    "import importlib.util\n",
    "import os\n",
    "import csv\n",
    "import io\n",
    "\n",
    "# Directory containing wedding examples\n",
    "## wedding_examples dir should be in the same directory as this notebook\n",
    "wedding_examples_dir = \"wedding_examples/\"\n",
    "\n",
    "# Helper function to import a file as a module\n",
    "def import_module_from_file(file_path):\n",
    "    spec = importlib.util.spec_from_file_location(\"module.name\", file_path)\n",
    "    foo = importlib.util.module_from_spec(spec)\n",
    "    spec.loader.exec_module(foo)\n",
    "    return foo\n",
    "\n",
    "def grade_wedding_file(file_name):\n",
    "    score = 0\n",
    "    file_path = os.path.join(wedding_examples_dir, file_name)\n",
    "\n",
    "    ## Test Setup\n",
    "    ## Need weddingCheck.csv file in the directory, this file has the expected output of standard_tests() function for wedding.py\n",
    "    with open('weddingCheck.csv', 'r') as file:\n",
    "        reader = csv.reader(file)\n",
    "        csv_data = []\n",
    "        for row in reader:\n",
    "            csv_data.append(row[0])\n",
    "    ## This is the test case.\n",
    "    \n",
    "    ## 1. Submission Check \n",
    "    if os.path.exists(file_path):\n",
    "        try:\n",
    "            ## Import the wedding file as a module\n",
    "            wedding_module = import_module_from_file(file_path)\n",
    "        except Exception as e:\n",
    "            ## Error handling for import\n",
    "            print(f\"Error importing {file_name}: {e}\")\n",
    "            return score\n",
    "\n",
    "        # 2. Functionality Check\n",
    "        try:\n",
    "            ## Try importing standard_tests() function from the module\n",
    "            if hasattr(wedding_module, 'standard_tests'):           \n",
    "                with contextlib.redirect_stdout(io.StringIO()) as f:\n",
    "                    ## Redirect print output of standard_tests() to a var f\n",
    "                    output_list = []\n",
    "                    wedding_module.standard_tests()\n",
    "                    ## split f by new lines into a big list\n",
    "                    output_list = f.getvalue().split('\\n')\n",
    "                    preset_output = csv_data\n",
    "\n",
    "                ## Compare each line of output to a preset output from the csv file\n",
    "                for line in range(len(preset_output)):\n",
    "                    if preset_output[line] == output_list[line]:\n",
    "                        score += 100/len(preset_output)  ## Some fraction of a point for each matching output line, up to 100 percent\n",
    "                    else:\n",
    "                        pass\n",
    "                \n",
    "            else:\n",
    "                print(f\"No 'standard_tests()' function found in {file_name}\")\n",
    "            \n",
    "        ## Prints any errors the occur in the wedding.py files    \n",
    "        except Exception as e:\n",
    "            print(f\"Error testing functionality in {file_name}: {e}\")\n",
    "\n",
    "    return round(score, 2)\n"
   ]
  },
  {
   "cell_type": "code",
   "execution_count": 21,
   "metadata": {},
   "outputs": [],
   "source": [
    "## Create Rubric CSV file to compare test with\n",
    "## For this example we are assuming wedding0.py gives a correct output\n",
    "\n",
    "with open('weddingCheck.csv','w') as file:\n",
    "    rubricModule = import_module_from_file('wedding_examples/wedding0.py')\n",
    "    with contextlib.redirect_stdout(io.StringIO()) as f:\n",
    "        ## Redirect print output of standard_tests() to a var f\n",
    "        rubricModule.standard_tests()\n",
    "        file.write(f.getvalue())"
   ]
  },
  {
   "cell_type": "code",
   "execution_count": 22,
   "metadata": {},
   "outputs": [
    {
     "name": "stdout",
     "output_type": "stream",
     "text": [
      "wedding18.py scored: 100.0%\n",
      "wedding12.py scored: 100.0%\n",
      "wedding39.py scored: 7.63%\n",
      "wedding29.py scored: 100.0%\n",
      "wedding1.py scored: 100.0%\n",
      "wedding26.py scored: 100.0%\n",
      "wedding17.py scored: 100.0%\n",
      "wedding31.py scored: 100.0%\n",
      "wedding14.py scored: 100.0%\n",
      "wedding37.py scored: 100.0%\n",
      "wedding11.py scored: 100.0%\n",
      "wedding25.py scored: 100.0%\n",
      "wedding7.py scored: 100.0%\n",
      "wedding4.py scored: 65.65%\n",
      "wedding22.py scored: 100.0%\n",
      "wedding13.py scored: 100.0%\n",
      "wedding21.py scored: 100.0%\n",
      "wedding9.py scored: 0%\n",
      "wedding8.py scored: 100.0%\n",
      "Error testing functionality in wedding36.py: name 'guests' is not defined\n",
      "wedding36.py scored: 0%\n",
      "wedding2.py scored: 100.0%\n",
      "Error testing functionality in wedding38.py: list index out of range\n",
      "wedding38.py scored: 59.54%\n",
      "wedding16.py scored: 100.0%\n",
      "wedding3.py scored: 100.0%\n",
      "wedding23.py scored: 100.0%\n",
      "wedding20.py scored: 100.0%\n",
      "wedding27.py scored: 100.0%\n",
      "wedding15.py scored: 7.63%\n",
      "wedding34.py scored: 100.0%\n",
      "wedding5.py scored: 100.0%\n",
      "wedding0.py scored: 100.0%\n",
      "wedding28.py scored: 100.0%\n",
      "Error testing functionality in wedding33.py: Wedding.barriers() missing 1 required positional argument: 'barrier_locations'\n",
      "wedding33.py scored: 0%\n",
      "wedding30.py scored: 100.0%\n",
      "wedding6.py scored: 100.0%\n",
      "wedding32.py scored: 100.0%\n",
      "wedding24.py scored: 100.0%\n",
      "Error testing functionality in wedding10.py: list index out of range\n",
      "wedding10.py scored: 59.54%\n",
      "wedding19.py scored: 7.63%\n",
      "wedding35.py scored: 100.0%\n"
     ]
    }
   ],
   "source": [
    "# Iterate through all the files in the directory and grade them\n",
    "# Essentially the main function just in this cell\n",
    "files = os.listdir(wedding_examples_dir)\n",
    "for file in files:\n",
    "    if file.endswith('.py'):\n",
    "        score = grade_wedding_file(file)\n",
    "        ## Create and write scores to a output file\n",
    "        with open('scoresOutput.csv', 'a') as csvfile:\n",
    "            outWriter = csv.writer(csvfile)\n",
    "            outWriter.writerow([file, score])\n",
    "        print(f\"{file} scored: {score}%\")\n"
   ]
  }
 ],
 "metadata": {
  "colab": {
   "provenance": []
  },
  "kernelspec": {
   "display_name": "Python 3",
   "name": "python3"
  },
  "language_info": {
   "codemirror_mode": {
    "name": "ipython",
    "version": 3
   },
   "file_extension": ".py",
   "mimetype": "text/x-python",
   "name": "python",
   "nbconvert_exporter": "python",
   "pygments_lexer": "ipython3",
   "version": "3.10.12"
  }
 },
 "nbformat": 4,
 "nbformat_minor": 0
}
