{
 "cells": [
  {
   "cell_type": "code",
   "execution_count": 1,
   "metadata": {
    "colab": {
     "base_uri": "https://localhost:8080/"
    },
    "id": "CKJY2yrKb04t",
    "outputId": "4407d8db-2820-457b-e1a4-b198abb1305b"
   },
   "outputs": [
    {
     "name": "stdout",
     "output_type": "stream",
     "text": [
      "Mounted at /content/drive\n"
     ]
    }
   ],
   "source": [
    "from google.colab import drive\n",
    "drive.mount('/content/drive')"
   ]
  },
  {
   "cell_type": "code",
   "execution_count": 2,
   "metadata": {
    "colab": {
     "base_uri": "https://localhost:8080/"
    },
    "id": "uLinIaqGb-Fg",
    "outputId": "4f64d7b8-a061-4ea9-c33a-810f61bda6b6"
   },
   "outputs": [
    {
     "name": "stdout",
     "output_type": "stream",
     "text": [
      "wedding0.py   wedding15.py  wedding20.py  wedding26.py\twedding31.py  wedding37.py  wedding6.py\n",
      "wedding10.py  wedding16.py  wedding21.py  wedding27.py\twedding32.py  wedding38.py  wedding7.py\n",
      "wedding11.py  wedding17.py  wedding22.py  wedding28.py\twedding33.py  wedding39.py  wedding8.py\n",
      "wedding12.py  wedding18.py  wedding23.py  wedding29.py\twedding34.py  wedding3.py   wedding9.py\n",
      "wedding13.py  wedding19.py  wedding24.py  wedding2.py\twedding35.py  wedding4.py\n",
      "wedding14.py  wedding1.py   wedding25.py  wedding30.py\twedding36.py  wedding5.py\n"
     ]
    }
   ],
   "source": [
    "!ls /content/drive/MyDrive/wedding_examples/\n"
   ]
  },
  {
   "cell_type": "code",
   "execution_count": 1,
   "metadata": {
    "colab": {
     "base_uri": "https://localhost:8080/"
    },
    "id": "OwW2TwHJjbyH",
    "outputId": "1167d66c-1aae-42b2-8bc7-b04e734cf5fc"
   },
   "outputs": [
    {
     "ename": "ModuleNotFoundError",
     "evalue": "No module named 'google'",
     "output_type": "error",
     "traceback": [
      "\u001b[0;31m---------------------------------------------------------------------------\u001b[0m",
      "\u001b[0;31mModuleNotFoundError\u001b[0m                       Traceback (most recent call last)",
      "Cell \u001b[0;32mIn[1], line 1\u001b[0m\n\u001b[0;32m----> 1\u001b[0m \u001b[38;5;28;01mfrom\u001b[39;00m \u001b[38;5;21;01mgoogle\u001b[39;00m\u001b[38;5;21;01m.\u001b[39;00m\u001b[38;5;21;01mcolab\u001b[39;00m \u001b[38;5;28;01mimport\u001b[39;00m drive\n\u001b[1;32m      2\u001b[0m \u001b[38;5;28;01mimport\u001b[39;00m \u001b[38;5;21;01mimportlib\u001b[39;00m\u001b[38;5;21;01m.\u001b[39;00m\u001b[38;5;21;01mutil\u001b[39;00m\n\u001b[1;32m      3\u001b[0m \u001b[38;5;28;01mimport\u001b[39;00m \u001b[38;5;21;01mos\u001b[39;00m\n",
      "\u001b[0;31mModuleNotFoundError\u001b[0m: No module named 'google'"
     ]
    }
   ],
   "source": [
    "from google.colab import drive\n",
    "import importlib.util\n",
    "import os\n",
    "\n",
    "# Mount Google Drive\n",
    "drive.mount('/content/drive')\n",
    "\n",
    "# Directory containing wedding examples\n",
    "wedding_examples_dir = \"/content/drive/MyDrive/wedding_examples/\"\n",
    "\n",
    "# Define grading weights\n",
    "SUBMISSION_WEIGHT = 20\n",
    "Some_WEIGHT = 40\n",
    "Other_WEIGHT = 40\n",
    "\n",
    "# Helper function to import a file as a module\n",
    "def import_module_from_file(file_path):\n",
    "    spec = importlib.util.spec_from_file_location(\"module.name\", file_path)\n",
    "    foo = importlib.util.module_from_spec(spec)\n",
    "    spec.loader.exec_module(foo)\n",
    "    return foo\n",
    "\n",
    "def grade_wedding_file(file_name):\n",
    "    score = 0\n",
    "    file_path = os.path.join(wedding_examples_dir, file_name)\n",
    "\n",
    "    # 1. Submission Check (20%)\n",
    "    if os.path.exists(file_path):\n",
    "        score += SUBMISSION_WEIGHT * 0.5  # 10% for submission\n",
    "\n",
    "        try:\n",
    "            # Import the file as a module\n",
    "            wedding_module = import_module_from_file(file_path)\n",
    "            score += SUBMISSION_WEIGHT * 0.5  # 10% for running without errors\n",
    "        except Exception as e:\n",
    "            print(f\"Error importing {file_name}: {e}\")\n",
    "            return score\n",
    "\n",
    "        # 2. Functionality Check\n",
    "\n",
    "\n",
    "        #try:\n",
    "          #some funtion\n",
    "\n",
    "        except Exception as e:\n",
    "            print(f\"Error testing functionality in {file_name}: {e}\")\n",
    "        # 3. Some other Check\n",
    "\n",
    "    return score\n",
    "\n",
    "# Iterate through all the files in the directory and grade them\n",
    "files = os.listdir(wedding_examples_dir)\n",
    "for file in files:\n",
    "    if file.endswith('.py'):\n",
    "        score = grade_wedding_file(file)\n",
    "        print(f\"{file} scored: {score}%\")\n"
   ]
  }
 ],
 "metadata": {
  "colab": {
   "provenance": []
  },
  "kernelspec": {
   "display_name": "Python 3",
   "name": "python3"
  },
  "language_info": {
   "codemirror_mode": {
    "name": "ipython",
    "version": 3
   },
   "file_extension": ".py",
   "mimetype": "text/x-python",
   "name": "python",
   "nbconvert_exporter": "python",
   "pygments_lexer": "ipython3",
   "version": "3.10.12"
  }
 },
 "nbformat": 4,
 "nbformat_minor": 0
}
