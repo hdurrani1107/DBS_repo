{
 "cells": [
  {
   "cell_type": "code",
   "execution_count": 1,
   "metadata": {
    "colab": {
     "base_uri": "https://localhost:8080/"
    },
    "id": "CKJY2yrKb04t",
    "outputId": "4407d8db-2820-457b-e1a4-b198abb1305b"
   },
   "outputs": [
    {
     "name": "stdout",
     "output_type": "stream",
     "text": [
      "Mounted at /content/drive\n"
     ]
    }
   ],
   "source": [
    "from google.colab import drive\n",
    "drive.mount('/content/drive')"
   ]
  },
  {
   "cell_type": "code",
   "execution_count": 2,
   "metadata": {
    "colab": {
     "base_uri": "https://localhost:8080/"
    },
    "id": "uLinIaqGb-Fg",
    "outputId": "4f64d7b8-a061-4ea9-c33a-810f61bda6b6"
   },
   "outputs": [
    {
     "name": "stdout",
     "output_type": "stream",
     "text": [
      "wedding0.py   wedding15.py  wedding20.py  wedding26.py\twedding31.py  wedding37.py  wedding6.py\n",
      "wedding10.py  wedding16.py  wedding21.py  wedding27.py\twedding32.py  wedding38.py  wedding7.py\n",
      "wedding11.py  wedding17.py  wedding22.py  wedding28.py\twedding33.py  wedding39.py  wedding8.py\n",
      "wedding12.py  wedding18.py  wedding23.py  wedding29.py\twedding34.py  wedding3.py   wedding9.py\n",
      "wedding13.py  wedding19.py  wedding24.py  wedding2.py\twedding35.py  wedding4.py\n",
      "wedding14.py  wedding1.py   wedding25.py  wedding30.py\twedding36.py  wedding5.py\n"
     ]
    }
   ],
   "source": [
    "!ls /content/drive/MyDrive/wedding_examples/\n"
   ]
  },
  {
   "cell_type": "code",
   "execution_count": null,
   "metadata": {},
   "outputs": [],
   "source": []
  },
  {
   "cell_type": "code",
   "execution_count": null,
   "metadata": {
    "colab": {
     "base_uri": "https://localhost:8080/"
    },
    "id": "OwW2TwHJjbyH",
    "outputId": "1167d66c-1aae-42b2-8bc7-b04e734cf5fc"
   },
   "outputs": [
    {
     "name": "stdout",
     "output_type": "stream",
     "text": [
      "wedding18.py scored: 100.0%\n",
      "wedding12.py scored: 100.0%\n",
      "wedding39.py scored: 7.634%\n",
      "wedding29.py scored: 100.0%\n",
      "wedding1.py scored: 100.0%\n",
      "wedding26.py scored: 100.0%\n",
      "wedding17.py scored: 100.0%\n",
      "wedding31.py scored: 100.0%\n",
      "wedding14.py scored: 100.0%\n",
      "wedding37.py scored: 100.0%\n",
      "wedding11.py scored: 100.0%\n",
      "wedding25.py scored: 100.0%\n",
      "wedding7.py scored: 100.0%\n",
      "wedding4.py scored: 65.649%\n",
      "wedding22.py scored: 100.0%\n",
      "wedding13.py scored: 100.0%\n",
      "wedding21.py scored: 100.0%\n",
      "wedding9.py scored: 0%\n",
      "wedding8.py scored: 100.0%\n",
      "Error testing functionality in wedding36.py: name 'guests' is not defined\n",
      "wedding36.py scored: 0%\n",
      "wedding2.py scored: 100.0%\n",
      "Error testing functionality in wedding38.py: list index out of range\n",
      "wedding38.py scored: 59.542%\n",
      "wedding16.py scored: 100.0%\n",
      "wedding3.py scored: 100.0%\n",
      "wedding23.py scored: 100.0%\n",
      "wedding20.py scored: 100.0%\n",
      "wedding27.py scored: 100.0%\n",
      "wedding15.py scored: 7.634%\n",
      "wedding34.py scored: 100.0%\n",
      "wedding5.py scored: 100.0%\n",
      "wedding0.py scored: 100.0%\n",
      "wedding28.py scored: 100.0%\n",
      "Error testing functionality in wedding33.py: Wedding.barriers() missing 1 required positional argument: 'barrier_locations'\n",
      "wedding33.py scored: 0%\n",
      "wedding30.py scored: 100.0%\n",
      "wedding6.py scored: 100.0%\n",
      "wedding32.py scored: 100.0%\n",
      "wedding24.py scored: 100.0%\n",
      "Error testing functionality in wedding10.py: list index out of range\n",
      "wedding10.py scored: 59.542%\n",
      "wedding19.py scored: 7.634%\n",
      "wedding35.py scored: 100.0%\n"
     ]
    }
   ],
   "source": [
    "import contextlib\n",
    "import importlib.util\n",
    "import os\n",
    "import csv\n",
    "import io\n",
    "\n",
    "# Directory containing wedding examples\n",
    "wedding_examples_dir = \"/wedding_examples/\"\n",
    "\n",
    "# Define grading weights\n",
    "SUBMISSION_WEIGHT = 20\n",
    "Some_WEIGHT = 40\n",
    "Other_WEIGHT = 40\n",
    "\n",
    "# Helper function to import a file as a module\n",
    "def import_module_from_file(file_path):\n",
    "    spec = importlib.util.spec_from_file_location(\"module.name\", file_path)\n",
    "    foo = importlib.util.module_from_spec(spec)\n",
    "    spec.loader.exec_module(foo)\n",
    "    return foo\n",
    "\n",
    "def grade_wedding_file(file_name):\n",
    "    score = 0\n",
    "    file_path = os.path.join(wedding_examples_dir, file_name)\n",
    "\n",
    "    ## Test Setup\n",
    "    with open('weddingCheck.csv', 'r') as file:\n",
    "        reader = csv.reader(file)\n",
    "        csv_data = [row[0] for row in reader]\n",
    "        \n",
    "    # 1. Submission Check (20%)\n",
    "    if os.path.exists(file_path):\n",
    "        #score += SUBMISSION_WEIGHT * 0.5  # 10% for submission\n",
    "        try:\n",
    "            # Import the file as a module\n",
    "            wedding_module = import_module_from_file(file_path)\n",
    "            #score += SUBMISSION_WEIGHT * 0.5  # 10% for running without errors\n",
    "        except Exception as e:\n",
    "            print(f\"Error importing {file_name}: {e}\")\n",
    "            return score\n",
    "\n",
    "        # 2. Functionality Check\n",
    "        try:\n",
    "            # Assuming the module has a function named 'main' to test\n",
    "            if hasattr(wedding_module, 'standard_tests'):           \n",
    "                with contextlib.redirect_stdout(io.StringIO()) as f:\n",
    "                    output_list = []\n",
    "                    wedding_module.standard_tests()\n",
    "                    output_list = f.getvalue().split('\\n')\n",
    "                    #Compare each line of output to a preset output\n",
    "                    preset_output = csv_data\n",
    "                    #actual_output = wedding_module.standard_tests().split('\\n')\n",
    "                for line in range(len(preset_output)):\n",
    "                    if preset_output[line] == output_list[line]:\n",
    "                        score += 100/131  # Full points for matching output\n",
    "                    else:\n",
    "                        pass\n",
    "                        #print(f\"Output mismatch in {file_name}\")\n",
    "                # print(output_list)            \n",
    "                \n",
    "                #score += Some_WEIGHT  # Full points for functionality\n",
    "            else:\n",
    "                print(f\"No 'standard_tests()' function found in {file_name}\")\n",
    "            \n",
    "        except Exception as e:\n",
    "            print(f\"Error testing functionality in {file_name}: {e}\")\n",
    "        # 3. Some other Check\n",
    "\n",
    "    return round(score, 2)\n",
    "\n",
    "# Iterate through all the files in the directory and grade them\n",
    "files = os.listdir(wedding_examples_dir)\n",
    "for file in files:\n",
    "    if file.endswith('.py'):\n",
    "        score = grade_wedding_file(file)\n",
    "        print(f\"{file} scored: {score}%\")\n"
   ]
  }
 ],
 "metadata": {
  "colab": {
   "provenance": []
  },
  "kernelspec": {
   "display_name": "Python 3",
   "name": "python3"
  },
  "language_info": {
   "codemirror_mode": {
    "name": "ipython",
    "version": 3
   },
   "file_extension": ".py",
   "mimetype": "text/x-python",
   "name": "python",
   "nbconvert_exporter": "python",
   "pygments_lexer": "ipython3",
   "version": "3.10.12"
  }
 },
 "nbformat": 4,
 "nbformat_minor": 0
}
