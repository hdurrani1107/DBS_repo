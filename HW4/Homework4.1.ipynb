{
 "cells": [
  {
   "cell_type": "code",
   "execution_count": null,
   "metadata": {},
   "outputs": [],
   "source": [
    "# Copyright 2024 Stephan Bscheider sbsch@bu.edu\n",
    "# Copyright 2024 Humzah Durrani hhd8@bu.edu\n",
    "# Copyright 2024 Alex Tianji Sun tianjis@bu.edu"
   ]
  },
  {
   "cell_type": "markdown",
   "metadata": {},
   "source": [
    "Lesson on various mechanical principles of motion\n",
    "\n",
    "1. Four Bar Linkage \n",
    "2. Cam Follower\n",
    "3. Gear Ratio "
   ]
  },
  {
   "cell_type": "code",
   "execution_count": null,
   "metadata": {},
   "outputs": [],
   "source": [
    "## Four Bar Linkage"
     import numpy as np
import math
import matplotlib.pyplot as plt
from matplotlib.animation import FuncAnimation
from ipywidgets import interact, FloatSlider
from IPython.display import HTML

%matplotlib notebook

# Default link lengths (THIS SETUP WORKS - IF ANIMATION FAILS SET CRANK = 2, and COUPLER = 5)
#Note certain setups fail entirely or fail through certain degree ranges, Why?
L1 = 2  # Default Crank length
L2 = 6  # Default Coupler length
L3 = 5  # Default Rocker length
L4 = 9  # Ground link length

def calculate_positions(theta_2, crank_length, coupler_length):
    # Init Positions
    x1 = 0
    y1 = 0
    x4 = 9
    y4 = 0


    x2 = x1 + crank_length * math.cos(theta_2)
    y2 = y1 + crank_length * math.sin(theta_2)
    BD = math.sqrt((x2 - x4) ** 2 + (y2 - y4) ** 2)
    
    # Check if the position is feasible based on link lengths
    if BD > coupler_length + L3 or BD < abs(coupler_length - L3):
        # Unreachable configuration, return NaNs
        return np.nan, np.nan, np.nan, np.nan, np.nan, np.nan, np.nan, np.nan

    # Calculate angles for triangle BCD (LAW OF COSINES)
    beta = math.atan2(y2 - y4, x2 - x4)
    phi = math.acos((L3 ** 2 + BD ** 2 - coupler_length ** 2) / (2 * L3 * BD))
    
    # Two possible solutions for theta_3
    theta_3_a = beta + phi
    theta_3_b = beta - phi

    # Choose one of the configurations
    theta_3 = theta_3_a if theta_3_a < theta_3_b else theta_3_b

    # Calculate point C (end of coupler link)
    x3 = x4 + L3 * math.cos(theta_3)
    y3 = y4 + L3 * math.sin(theta_3)
    
    return x1, y1, x2, y2, x3, y3, x4, y4

# Set up figure and axis
fig, ax = plt.subplots()
ax.set_aspect('equal')
ax.set_xlim(-10, 10)
ax.set_ylim(-10, 10)
line, = ax.plot([], [], 'o-', lw=2)

# Initialization function
def init():
    line.set_data([], [])
    return line,

# Update function for each frame
def update(frame, crank_length, coupler_length):
    theta_2 = np.radians(frame)
    x1, y1, x2, y2, x3, y3, x4, y4 = calculate_positions(theta_2, crank_length, coupler_length)
    line.set_data([x1, x2, x3, x4, x1], [y1, y2, y3, y4, y1])
    return line,

# Create animation function with parameters for crank and coupler lengths
def create_animation(crank_length, coupler_length):
    plt.close(fig)
    ani = FuncAnimation(fig, update, frames=np.arange(0, 360, 10),
                        fargs=(crank_length, coupler_length),
                        init_func=init, blit=True)
    return HTML(ani.to_jshtml())
    

# Use interact to add sliders for crank and coupler lengths
#Need to potentially tune further because it fails at the ends
interact(create_animation,
         crank_length=FloatSlider(min=1, max=15, step=0.5, value=L1, description='Crank Length'),
         coupler_length=FloatSlider(min=1, max=15, step=0.5, value=L2, description='Coupler Length'))
   ]
  },
  {
   "cell_type": "markdown",
   "metadata": {},
   "source": [
    "Cam Follower\n",
    "    \n",
    "A cam follower is one type mechanical device that is used to translate rotational motion into linear motion. The rotating element or the cam usually has a distict profile or shape, and as it rotates the follower, which is stationary in the x axis, follows the profile and \"tracks\" the y position of the rotating surface. \n",
    "\n",
    "This function is distict from something like a piston, that translates linear motion to rotational motion, because the cam profile can be adjusted to get specific period behavior from the the linear follower. In the following example the cam is half circle and half ellipse, so for 180 degrees of the rotation, or half the time, the follower will stay still, then for the other 180 degrees of rotation the follower will trace a parabolic curve based on the size of the ellipse. In the model try adjusting the rotation speed, major and minor axes lengths and see how the vertical position plot reacts."
   ]
  },
  {
   "cell_type": "code",
   "execution_count": 1,
   "metadata": {},
   "outputs": [],
   "source": [
    "## Cam Follower Code\n",
    "import numpy as np\n",
    "import cv2 as cv\n",
    "import matplotlib.pyplot as plt\n",
    "import matplotlib\n",
    "matplotlib.use('TkAgg') #This works nice using tk backend to run the matplotlib window so it can update out of line with the notebook\n",
    "\n",
    "cv.destroyAllWindows()\n",
    "\n",
    "## Initialize Variables for CV animation\n",
    "\n",
    "center = (256, 256)  # Center of the oval\n",
    "stick_height = 50  # Height of the stick\n",
    "stick_pos_x = 256  # X position of the stick\n",
    "i=0\n",
    "angle = 0\n",
    "majorAxis = 75  # Length of the axes of the oval\n",
    "minorAxis = 50  \n",
    "angle_step = 2  # Angle step for rotation\n",
    "\n",
    "## Initialize OPEN CV Animation\n",
    "# Create a window to display the animation\n",
    "cv.namedWindow('Cam Follower', cv.WINDOW_NORMAL)\n",
    "cv.resizeWindow('Cam Follower', 800, 800)\n",
    "\n",
    "# Placeholder empty funct for trackbars\n",
    "def nothing(x):\n",
    "    pass\n",
    "\n",
    "# Create trackbars for adjusting cam speed and axes\n",
    "cv.createTrackbar('Speed', 'Cam Follower', 2, 10, nothing)\n",
    "cv.createTrackbar('Major Axis', 'Cam Follower', 75, 200, nothing)\n",
    "cv.createTrackbar('Minor Axis', 'Cam Follower', 50, 200, nothing)\n",
    "\n",
    "\n",
    "## Initialize Matplotlib\n",
    "t = np.linspace(1,100,100)\n",
    "ytemp = np.zeros(100) # Array for plotting \n",
    "\n",
    "# Create figure and axes\n",
    "plt.ion()\n",
    "fig, ax = plt.subplots()\n",
    "line1, = ax.plot(t, ytemp, label='Follower Height')\n",
    "ax.legend()\n",
    "\n",
    "# Set up plot limits\n",
    "ax.set_xlim(0, 100)\n",
    "ax.set_ylim(0,200)\n",
    "\n",
    "\n",
    "while True:\n",
    "    # Create a black image\n",
    "    img = np.zeros((512, 512, 3), np.uint8)\n",
    "    \n",
    "    # Calculate the rotation angle every loop\n",
    "    angle = i * angle_step\n",
    "    \n",
    "    # Create vector of points representing the cam for calculation use later\n",
    "    Cvector = cv.ellipse2Poly(center, (minorAxis,minorAxis), angle, 0, 360, 1)\n",
    "    Evector = cv.ellipse2Poly(center, (majorAxis,minorAxis), angle, 0, 360, 1)\n",
    "    \n",
    "    # Draw ellipses to represent the calculated cam\n",
    "    cv.ellipse(img, center, (majorAxis,minorAxis), angle, 90, 270, (255, 0, 0), -1)\n",
    "    cv.ellipse(img, center, (minorAxis,minorAxis), angle, -90, 90, (255, 0, 0), -1)\n",
    "    cv.ellipse(img, center, (6,6), 0, 0, 360, (10, 10, 10), -1)\n",
    "    \n",
    "    # depending on the angle (on circle side or ellipse side of cam), calcuate the largest y value for a specifc x value\n",
    "    if np.sin(np.radians(angle)) >= 0:\n",
    "        matching = np.where((Evector[:,0] >= stick_pos_x-2) & (Evector[:,0] <= stick_pos_x+2))[0]\n",
    "        yheight = min(Evector[matching[:],1])\n",
    "    elif np.sin(np.radians(angle)) < 0:\n",
    "        matching = np.where((Cvector[:,0] >= stick_pos_x-2) & (Cvector[:,0] <= stick_pos_x+2))[0]\n",
    "        yheight = min(Cvector[matching[:],1])\n",
    "    else:\n",
    "        pass\n",
    "    \n",
    "    #Draw Follower Stick\n",
    "    cv.line(img,(stick_pos_x,yheight-stick_height),(stick_pos_x,yheight),(0,255,0),2)\n",
    "    \n",
    "    # Display the image\n",
    "    cv.imshow('Cam Follower', img)\n",
    "\n",
    "    # Matplotlib update, Shift the data in the ytemp over one and add the new data point\n",
    "    ytemp = np.append(ytemp, -yheight + center[1])\n",
    "    ytemp = ytemp[1:]\n",
    "    line1.set_xdata(t)  # Update the x data\n",
    "    line1.set_ydata(ytemp)  # Update the y data\n",
    "    fig.canvas.draw_idle()  # Plot updated figure\n",
    "    fig.canvas.flush_events()  # This does somethign to not crash the code\n",
    "  \n",
    "\n",
    "    # Recheck the trackbar values at the end of each loop and reassign them to the vars\n",
    "    angle_step = cv.getTrackbarPos('Speed', 'Cam Follower')\n",
    "    majorAxis = cv.getTrackbarPos('Major Axis', 'Cam Follower')\n",
    "    minorAxis = cv.getTrackbarPos('Minor Axis', 'Cam Follower')\n",
    "    \n",
    "    # Increment for the angle\n",
    "    i = i + 1\n",
    "\n",
    "    # This is the exit for the loop 'q' to quit\n",
    "    if cv.waitKey(50) & 0xFF == ord('q'):\n",
    "        break\n",
    "\n",
    "# Destroy the window after quit\n",
    "cv.destroyAllWindows()\n",
    "plt.close(fig)\n"
   ]
  },
  {
   "cell_type": "markdown",
   "metadata": {},
   "source": [
    "A gearbox is a mechanical system that uses interlocking gears to transfer and modify power and motion between different components. The purpose of this animation is to simulate a set of gears (Drive Gear and Driven Gear) in a gearbox. To simplfy the process, we have set a speed for the drive gear and changing the radius of the gear can change the spinning speed and ratio of the gear. "
   ]
  },
  {
   "cell_type": "code",
   "execution_count": null,
   "metadata": {},
   "outputs": [
    {
     "data": {
      "image/png": "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",
      "text/plain": [
       "<Figure size 640x480 with 1 Axes>"
      ]
     },
     "metadata": {},
     "output_type": "display_data"
    },
    {
     "data": {
      "application/vnd.jupyter.widget-view+json": {
       "model_id": "0edf7771c2bb4abeb49a570b9b182b6f",
       "version_major": 2,
       "version_minor": 0
      },
      "text/plain": [
       "interactive(children=(FloatSlider(value=0.1, description='Drive Gear Size:', max=0.2, min=0.05, step=0.01), Fl…"
      ]
     },
     "metadata": {},
     "output_type": "display_data"
    },
    {
     "data": {
      "text/plain": [
       "<function __main__.display_animation(radius_drive, radius_driven)>"
      ]
     },
     "execution_count": 1,
     "metadata": {},
     "output_type": "execute_result"
    }
   ],
   "source": [
    "## Gear Ratio\n",
    "import numpy as np\n",
    "import matplotlib.pyplot as plt\n",
    "import matplotlib.animation as animation\n",
    "from ipywidgets import interact, FloatSlider\n",
    "from IPython.display import display, HTML\n",
    "\n",
    "# Default parameters\n",
    "radius_drive = 0.1  \n",
    "radius_driven = 0.3 \n",
    "t = np.linspace(0, 10, 100)\n",
    "\n",
    "fig, ax = plt.subplots()\n",
    "ax.set(xlim=(0, 1), ylim=(0, 1), aspect='equal')\n",
    "ax.set_title(\"Gearbox Simulation\")\n",
    "\n",
    "center_drive = (0.3, 0.5)\n",
    "center_driven = (center_drive[0] + radius_drive + radius_driven, center_drive[1])\n",
    "\n",
    "\n",
    "drive_gear = plt.Circle(center_drive, radius_drive, color='grey', alpha=0.7, label=\"Drive Gear\")\n",
    "driven_gear = plt.Circle(center_driven, radius_driven, color='blue', alpha=0.7, label=\"Driven Gear\")\n",
    "ax.add_patch(drive_gear)\n",
    "ax.add_patch(driven_gear)\n",
    "\n",
    "drive_line, = ax.plot([], [], color='black', lw=2)\n",
    "driven_line, = ax.plot([], [], color='green', lw=2)\n",
    "ax.legend()\n",
    "\n",
    "def update(frame, radius_drive, radius_driven):\n",
    "    center_driven = (center_drive[0] + radius_drive + radius_driven, center_drive[1])\n",
    "    driven_gear.set_center(center_driven)\n",
    "    \n",
    "    speed_ratio = radius_driven / radius_drive\n",
    "  \n",
    "    drive_gear.set_radius(radius_drive)\n",
    "    driven_gear.set_radius(radius_driven)\n",
    "    \n",
    "    angle_drive = frame * np.pi / 15 \n",
    "    angle_driven = -frame * np.pi / (15 * speed_ratio) \n",
    "    # Update line position for drive gear\n",
    "    drive_line.set_data(\n",
    "        [center_drive[0], center_drive[0] + radius_drive * np.cos(angle_drive)],\n",
    "        [center_drive[1], center_drive[1] + radius_drive * np.sin(angle_drive)]\n",
    "    )\n",
    "    \n",
    "    driven_line.set_data(\n",
    "        [center_driven[0], center_driven[0] + radius_driven * np.cos(angle_driven)],\n",
    "        [center_driven[1], center_driven[1] + radius_driven * np.sin(angle_driven)]\n",
    "    )\n",
    "    \n",
    "    return drive_line, driven_line\n",
    "\n",
    "drive_slider = FloatSlider(value=0.1, min=0.05, max=0.2, step=0.01, description='Drive Gear Size:')\n",
    "driven_slider = FloatSlider(value=0.3, min=0.1, max=0.5, step=0.01, description='Driven Gear Size:')\n",
    "\n",
    "def display_animation(radius_drive, radius_driven):\n",
    "    ani = animation.FuncAnimation(fig, update, frames=range(100), fargs=(radius_drive, radius_driven), interval=50, blit=True)\n",
    "    display(HTML(ani.to_jshtml()))  \n",
    "\n",
    "interact(display_animation, radius_drive=drive_slider, radius_driven=driven_slider)\n"
   ]
  }
 ],
 "metadata": {
  "kernelspec": {
   "display_name": "Python 3",
   "language": "python",
   "name": "python3"
  },
  "language_info": {
   "codemirror_mode": {
    "name": "ipython",
    "version": 3
   },
   "file_extension": ".py",
   "mimetype": "text/x-python",
   "name": "python",
   "nbconvert_exporter": "python",
   "pygments_lexer": "ipython3",
   "version": "3.10.12"
  }
 },
 "nbformat": 4,
 "nbformat_minor": 2
}
