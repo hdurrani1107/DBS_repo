{
 "cells": [
  {
   "cell_type": "markdown",
   "id": "7d7278a3-097b-45f1-81a4-054c3a2e2c28",
   "metadata": {},
   "source": [
    "# Class and Inheritance\n",
    "\n",
    "Suppose I have an entity that is appropriate for a `class` definition in Python.\n",
    "\n",
    "What are my options?\n",
    "\n",
    "1. Use generative AI to produce.\n",
    "2. Find a third-party library (usually available on pypi or github)\n",
    "3. Use an implementation in the standard library\n",
    "4. Base your implementation on a class in the standard library or built-in classes\n",
    "5. Build it entirely from scratch\n",
    "\n",
    "Topics\n",
    "\n",
    "- `isinstance` vs `type()`\n",
    "- method resolution order\n",
    "- `super`\n",
    "- is-a versus has-a relationships"
   ]
  },
  {
   "cell_type": "markdown",
   "id": "64b4decf-39b6-4636-bdc7-121b7f618395",
   "metadata": {},
   "source": [
    "We are going to start with the `Counter` class defined in the standard library `collections`"
   ]
  },
  {
   "cell_type": "code",
   "execution_count": 2,
   "id": "a4b8ae18-547d-4ef9-9eee-859e7cff0944",
   "metadata": {},
   "outputs": [],
   "source": [
    "import collections\n",
    "Counter = collections.Counter\n"
   ]
  },
  {
   "cell_type": "code",
   "execution_count": 14,
   "id": "5d2ff734-fd02-4d45-b90c-8d9942b0590b",
   "metadata": {},
   "outputs": [
    {
     "name": "stdout",
     "output_type": "stream",
     "text": [
      "Counter({'l': 2, 'e': 2, 'h': 1, 'a': 1, 'o': 1, 'w': 1, 'n': 1})\n"
     ]
    }
   ],
   "source": [
    "c = Counter(\"halloween\")\n",
    "print(c)\n",
    "d = Counter([4,5,6,4,5,6,1])"
   ]
  },
  {
   "cell_type": "code",
   "execution_count": 8,
   "id": "8774f258-6d0f-4f02-ab78-282ac005b424",
   "metadata": {},
   "outputs": [
    {
     "data": {
      "text/plain": [
       "Counter({4: 2, 5: 2, 6: 2, 1: 1})"
      ]
     },
     "execution_count": 8,
     "metadata": {},
     "output_type": "execute_result"
    }
   ],
   "source": [
    "d"
   ]
  },
  {
   "cell_type": "code",
   "execution_count": 5,
   "id": "31ed032f-fefd-4017-bfb6-30b07f0851d0",
   "metadata": {},
   "outputs": [
    {
     "data": {
      "text/plain": [
       "2"
      ]
     },
     "execution_count": 5,
     "metadata": {},
     "output_type": "execute_result"
    }
   ],
   "source": [
    "c[\"l\"]"
   ]
  },
  {
   "cell_type": "code",
   "execution_count": 6,
   "id": "5cea8f95-6d29-44e1-9278-5e35041d9b5a",
   "metadata": {},
   "outputs": [
    {
     "data": {
      "text/plain": [
       "[('l', 2), ('e', 2), ('h', 1), ('a', 1), ('o', 1), ('w', 1), ('n', 1)]"
      ]
     },
     "execution_count": 6,
     "metadata": {},
     "output_type": "execute_result"
    }
   ],
   "source": [
    "c.most_common()"
   ]
  },
  {
   "cell_type": "code",
   "execution_count": 13,
   "id": "53947c91-1cca-4a1e-949b-65d8da74c2e9",
   "metadata": {},
   "outputs": [
    {
     "name": "stdout",
     "output_type": "stream",
     "text": [
      "{'h': 1, 'a': 1, 'l': 2, 'o': 1, 'w': 1, 'e': 2, 'n': 1}\n"
     ]
    }
   ],
   "source": [
    "# Multiset HAS A dictionary\n",
    "\n",
    "class Multiset():\n",
    "    def __init__(self,values):\n",
    "        self.d = {}\n",
    "        for x in values:\n",
    "            if x in self.d:\n",
    "                self.d[x] += 1\n",
    "            else:\n",
    "                self.d[x] = 1\n",
    "    def __str__(self):\n",
    "        return str(self.d)\n",
    "            \n",
    "d = Multiset(\"halloween\")\n",
    "print(d)"
   ]
  },
  {
   "cell_type": "code",
   "execution_count": null,
   "id": "55add1e2-a76d-4971-87ac-54a57dc25dca",
   "metadata": {},
   "outputs": [],
   "source": []
  },
  {
   "cell_type": "code",
   "execution_count": 38,
   "id": "e3b3f55a-726a-45ae-8ac2-ce956038d1f3",
   "metadata": {},
   "outputs": [
    {
     "name": "stdout",
     "output_type": "stream",
     "text": [
      "{} <class '__main__.Multiset'> False True\n",
      "{'h': 1, 'a': 1, 'l': 2, 'o': 1, 'w': 1, 'e': 2, 'n': 1}\n",
      "0\n"
     ]
    }
   ],
   "source": [
    "# Multiset IS A dictionary\n",
    "\n",
    "class Multiset(dict):\n",
    "    def __init__(self,values):\n",
    "        print(self,type(self),type(self)==dict,isinstance(self,dict))\n",
    "        for x in values:\n",
    "            self[x] = self.get(x,0) + 1\n",
    "    def __getitem__(self, key): # \"overloading\"\n",
    "        if key in self:\n",
    "            return super().__getitem__(key)\n",
    "        else:\n",
    "            return 0\n",
    "\n",
    "d = Multiset(\"halloween\")\n",
    "print(d)\n",
    "print(d['q'])"
   ]
  },
  {
   "cell_type": "code",
   "execution_count": 24,
   "id": "024d0457-8bb1-4f4a-87a4-e02409876193",
   "metadata": {},
   "outputs": [
    {
     "ename": "KeyError",
     "evalue": "'q'",
     "output_type": "error",
     "traceback": [
      "\u001b[0;31m---------------------------------------------------------------------------\u001b[0m",
      "\u001b[0;31mKeyError\u001b[0m                                  Traceback (most recent call last)",
      "Cell \u001b[0;32mIn[24], line 1\u001b[0m\n\u001b[0;32m----> 1\u001b[0m \u001b[43md\u001b[49m\u001b[43m[\u001b[49m\u001b[38;5;124;43m'\u001b[39;49m\u001b[38;5;124;43mq\u001b[39;49m\u001b[38;5;124;43m'\u001b[39;49m\u001b[43m]\u001b[49m\n",
      "\u001b[0;31mKeyError\u001b[0m: 'q'"
     ]
    }
   ],
   "source": [
    "d['q']"
   ]
  },
  {
   "cell_type": "code",
   "execution_count": 11,
   "id": "8a23e061-6dc1-449a-a433-cc90d72dadaf",
   "metadata": {},
   "outputs": [
    {
     "name": "stdout",
     "output_type": "stream",
     "text": [
      "halloween\n"
     ]
    }
   ],
   "source": [
    "d = Multiset(\"halloween\")"
   ]
  },
  {
   "cell_type": "code",
   "execution_count": 20,
   "id": "5fa41874-e735-4ed3-90ba-30955e686c35",
   "metadata": {},
   "outputs": [
    {
     "data": {
      "text/plain": [
       "(collections.Counter, True)"
      ]
     },
     "execution_count": 20,
     "metadata": {},
     "output_type": "execute_result"
    }
   ],
   "source": [
    "type(c),isinstance(c,dict)"
   ]
  },
  {
   "cell_type": "code",
   "execution_count": 21,
   "id": "ce8d9844-59e8-4f29-a7dc-20ff98593abe",
   "metadata": {
    "collapsed": true,
    "jupyter": {
     "outputs_hidden": true
    }
   },
   "outputs": [
    {
     "name": "stdout",
     "output_type": "stream",
     "text": [
      "Help on class Counter in module collections:\n",
      "\n",
      "class Counter(builtins.dict)\n",
      " |  Counter(iterable=None, /, **kwds)\n",
      " |\n",
      " |  Dict subclass for counting hashable items.  Sometimes called a bag\n",
      " |  or multiset.  Elements are stored as dictionary keys and their counts\n",
      " |  are stored as dictionary values.\n",
      " |\n",
      " |  >>> c = Counter('abcdeabcdabcaba')  # count elements from a string\n",
      " |\n",
      " |  >>> c.most_common(3)                # three most common elements\n",
      " |  [('a', 5), ('b', 4), ('c', 3)]\n",
      " |  >>> sorted(c)                       # list all unique elements\n",
      " |  ['a', 'b', 'c', 'd', 'e']\n",
      " |  >>> ''.join(sorted(c.elements()))   # list elements with repetitions\n",
      " |  'aaaaabbbbcccdde'\n",
      " |  >>> sum(c.values())                 # total of all counts\n",
      " |  15\n",
      " |\n",
      " |  >>> c['a']                          # count of letter 'a'\n",
      " |  5\n",
      " |  >>> for elem in 'shazam':           # update counts from an iterable\n",
      " |  ...     c[elem] += 1                # by adding 1 to each element's count\n",
      " |  >>> c['a']                          # now there are seven 'a'\n",
      " |  7\n",
      " |  >>> del c['b']                      # remove all 'b'\n",
      " |  >>> c['b']                          # now there are zero 'b'\n",
      " |  0\n",
      " |\n",
      " |  >>> d = Counter('simsalabim')       # make another counter\n",
      " |  >>> c.update(d)                     # add in the second counter\n",
      " |  >>> c['a']                          # now there are nine 'a'\n",
      " |  9\n",
      " |\n",
      " |  >>> c.clear()                       # empty the counter\n",
      " |  >>> c\n",
      " |  Counter()\n",
      " |\n",
      " |  Note:  If a count is set to zero or reduced to zero, it will remain\n",
      " |  in the counter until the entry is deleted or the counter is cleared:\n",
      " |\n",
      " |  >>> c = Counter('aaabbc')\n",
      " |  >>> c['b'] -= 2                     # reduce the count of 'b' by two\n",
      " |  >>> c.most_common()                 # 'b' is still in, but its count is zero\n",
      " |  [('a', 3), ('c', 1), ('b', 0)]\n",
      " |\n",
      " |  Method resolution order:\n",
      " |      Counter\n",
      " |      builtins.dict\n",
      " |      builtins.object\n",
      " |\n",
      " |  Methods defined here:\n",
      " |\n",
      " |  __add__(self, other)\n",
      " |      Add counts from two counters.\n",
      " |\n",
      " |      >>> Counter('abbb') + Counter('bcc')\n",
      " |      Counter({'b': 4, 'c': 2, 'a': 1})\n",
      " |\n",
      " |  __and__(self, other)\n",
      " |      Intersection is the minimum of corresponding counts.\n",
      " |\n",
      " |      >>> Counter('abbb') & Counter('bcc')\n",
      " |      Counter({'b': 1})\n",
      " |\n",
      " |  __delitem__(self, elem)\n",
      " |      Like dict.__delitem__() but does not raise KeyError for missing values.\n",
      " |\n",
      " |  __eq__(self, other)\n",
      " |      True if all counts agree. Missing counts are treated as zero.\n",
      " |\n",
      " |  __ge__(self, other)\n",
      " |      True if all counts in self are a superset of those in other.\n",
      " |\n",
      " |  __gt__(self, other)\n",
      " |      True if all counts in self are a proper superset of those in other.\n",
      " |\n",
      " |  __iadd__(self, other)\n",
      " |      Inplace add from another counter, keeping only positive counts.\n",
      " |\n",
      " |      >>> c = Counter('abbb')\n",
      " |      >>> c += Counter('bcc')\n",
      " |      >>> c\n",
      " |      Counter({'b': 4, 'c': 2, 'a': 1})\n",
      " |\n",
      " |  __iand__(self, other)\n",
      " |      Inplace intersection is the minimum of corresponding counts.\n",
      " |\n",
      " |      >>> c = Counter('abbb')\n",
      " |      >>> c &= Counter('bcc')\n",
      " |      >>> c\n",
      " |      Counter({'b': 1})\n",
      " |\n",
      " |  __init__(self, iterable=None, /, **kwds)\n",
      " |      Create a new, empty Counter object.  And if given, count elements\n",
      " |      from an input iterable.  Or, initialize the count from another mapping\n",
      " |      of elements to their counts.\n",
      " |\n",
      " |      >>> c = Counter()                           # a new, empty counter\n",
      " |      >>> c = Counter('gallahad')                 # a new counter from an iterable\n",
      " |      >>> c = Counter({'a': 4, 'b': 2})           # a new counter from a mapping\n",
      " |      >>> c = Counter(a=4, b=2)                   # a new counter from keyword args\n",
      " |\n",
      " |  __ior__(self, other)\n",
      " |      Inplace union is the maximum of value from either counter.\n",
      " |\n",
      " |      >>> c = Counter('abbb')\n",
      " |      >>> c |= Counter('bcc')\n",
      " |      >>> c\n",
      " |      Counter({'b': 3, 'c': 2, 'a': 1})\n",
      " |\n",
      " |  __isub__(self, other)\n",
      " |      Inplace subtract counter, but keep only results with positive counts.\n",
      " |\n",
      " |      >>> c = Counter('abbbc')\n",
      " |      >>> c -= Counter('bccd')\n",
      " |      >>> c\n",
      " |      Counter({'b': 2, 'a': 1})\n",
      " |\n",
      " |  __le__(self, other)\n",
      " |      True if all counts in self are a subset of those in other.\n",
      " |\n",
      " |  __lt__(self, other)\n",
      " |      True if all counts in self are a proper subset of those in other.\n",
      " |\n",
      " |  __missing__(self, key)\n",
      " |      The count of elements not in the Counter is zero.\n",
      " |\n",
      " |  __ne__(self, other)\n",
      " |      True if any counts disagree. Missing counts are treated as zero.\n",
      " |\n",
      " |  __neg__(self)\n",
      " |      Subtracts from an empty counter.  Strips positive and zero counts,\n",
      " |      and flips the sign on negative counts.\n",
      " |\n",
      " |  __or__(self, other)\n",
      " |      Union is the maximum of value in either of the input counters.\n",
      " |\n",
      " |      >>> Counter('abbb') | Counter('bcc')\n",
      " |      Counter({'b': 3, 'c': 2, 'a': 1})\n",
      " |\n",
      " |  __pos__(self)\n",
      " |      Adds an empty counter, effectively stripping negative and zero counts\n",
      " |\n",
      " |  __reduce__(self)\n",
      " |      Helper for pickle.\n",
      " |\n",
      " |  __repr__(self)\n",
      " |      Return repr(self).\n",
      " |\n",
      " |  __sub__(self, other)\n",
      " |      Subtract count, but keep only results with positive counts.\n",
      " |\n",
      " |      >>> Counter('abbbc') - Counter('bccd')\n",
      " |      Counter({'b': 2, 'a': 1})\n",
      " |\n",
      " |  copy(self)\n",
      " |      Return a shallow copy.\n",
      " |\n",
      " |  elements(self)\n",
      " |      Iterator over elements repeating each as many times as its count.\n",
      " |\n",
      " |      >>> c = Counter('ABCABC')\n",
      " |      >>> sorted(c.elements())\n",
      " |      ['A', 'A', 'B', 'B', 'C', 'C']\n",
      " |\n",
      " |      # Knuth's example for prime factors of 1836:  2**2 * 3**3 * 17**1\n",
      " |      >>> import math\n",
      " |      >>> prime_factors = Counter({2: 2, 3: 3, 17: 1})\n",
      " |      >>> math.prod(prime_factors.elements())\n",
      " |      1836\n",
      " |\n",
      " |      Note, if an element's count has been set to zero or is a negative\n",
      " |      number, elements() will ignore it.\n",
      " |\n",
      " |  most_common(self, n=None)\n",
      " |      List the n most common elements and their counts from the most\n",
      " |      common to the least.  If n is None, then list all element counts.\n",
      " |\n",
      " |      >>> Counter('abracadabra').most_common(3)\n",
      " |      [('a', 5), ('b', 2), ('r', 2)]\n",
      " |\n",
      " |  subtract(self, iterable=None, /, **kwds)\n",
      " |      Like dict.update() but subtracts counts instead of replacing them.\n",
      " |      Counts can be reduced below zero.  Both the inputs and outputs are\n",
      " |      allowed to contain zero and negative counts.\n",
      " |\n",
      " |      Source can be an iterable, a dictionary, or another Counter instance.\n",
      " |\n",
      " |      >>> c = Counter('which')\n",
      " |      >>> c.subtract('witch')             # subtract elements from another iterable\n",
      " |      >>> c.subtract(Counter('watch'))    # subtract elements from another counter\n",
      " |      >>> c['h']                          # 2 in which, minus 1 in witch, minus 1 in watch\n",
      " |      0\n",
      " |      >>> c['w']                          # 1 in which, minus 1 in witch, minus 1 in watch\n",
      " |      -1\n",
      " |\n",
      " |  total(self)\n",
      " |      Sum of the counts\n",
      " |\n",
      " |  update(self, iterable=None, /, **kwds)\n",
      " |      Like dict.update() but add counts instead of replacing them.\n",
      " |\n",
      " |      Source can be an iterable, a dictionary, or another Counter instance.\n",
      " |\n",
      " |      >>> c = Counter('which')\n",
      " |      >>> c.update('witch')           # add elements from another iterable\n",
      " |      >>> d = Counter('watch')\n",
      " |      >>> c.update(d)                 # add elements from another counter\n",
      " |      >>> c['h']                      # four 'h' in which, witch, and watch\n",
      " |      4\n",
      " |\n",
      " |  ----------------------------------------------------------------------\n",
      " |  Class methods defined here:\n",
      " |\n",
      " |  fromkeys(iterable, v=None) from builtins.type\n",
      " |      Create a new dictionary with keys from iterable and values set to value.\n",
      " |\n",
      " |  ----------------------------------------------------------------------\n",
      " |  Data descriptors defined here:\n",
      " |\n",
      " |  __dict__\n",
      " |      dictionary for instance variables\n",
      " |\n",
      " |  __weakref__\n",
      " |      list of weak references to the object\n",
      " |\n",
      " |  ----------------------------------------------------------------------\n",
      " |  Data and other attributes defined here:\n",
      " |\n",
      " |  __hash__ = None\n",
      " |\n",
      " |  ----------------------------------------------------------------------\n",
      " |  Methods inherited from builtins.dict:\n",
      " |\n",
      " |  __contains__(self, key, /)\n",
      " |      True if the dictionary has the specified key, else False.\n",
      " |\n",
      " |  __getattribute__(self, name, /)\n",
      " |      Return getattr(self, name).\n",
      " |\n",
      " |  __getitem__(self, key, /)\n",
      " |      Return self[key].\n",
      " |\n",
      " |  __iter__(self, /)\n",
      " |      Implement iter(self).\n",
      " |\n",
      " |  __len__(self, /)\n",
      " |      Return len(self).\n",
      " |\n",
      " |  __reversed__(self, /)\n",
      " |      Return a reverse iterator over the dict keys.\n",
      " |\n",
      " |  __ror__(self, value, /)\n",
      " |      Return value|self.\n",
      " |\n",
      " |  __setitem__(self, key, value, /)\n",
      " |      Set self[key] to value.\n",
      " |\n",
      " |  __sizeof__(...)\n",
      " |      D.__sizeof__() -> size of D in memory, in bytes\n",
      " |\n",
      " |  clear(...)\n",
      " |      D.clear() -> None.  Remove all items from D.\n",
      " |\n",
      " |  get(self, key, default=None, /)\n",
      " |      Return the value for key if key is in the dictionary, else default.\n",
      " |\n",
      " |  items(...)\n",
      " |      D.items() -> a set-like object providing a view on D's items\n",
      " |\n",
      " |  keys(...)\n",
      " |      D.keys() -> a set-like object providing a view on D's keys\n",
      " |\n",
      " |  pop(...)\n",
      " |      D.pop(k[,d]) -> v, remove specified key and return the corresponding value.\n",
      " |\n",
      " |      If the key is not found, return the default if given; otherwise,\n",
      " |      raise a KeyError.\n",
      " |\n",
      " |  popitem(self, /)\n",
      " |      Remove and return a (key, value) pair as a 2-tuple.\n",
      " |\n",
      " |      Pairs are returned in LIFO (last-in, first-out) order.\n",
      " |      Raises KeyError if the dict is empty.\n",
      " |\n",
      " |  setdefault(self, key, default=None, /)\n",
      " |      Insert key with a value of default if key is not in the dictionary.\n",
      " |\n",
      " |      Return the value for key if key is in the dictionary, else default.\n",
      " |\n",
      " |  values(...)\n",
      " |      D.values() -> an object providing a view on D's values\n",
      " |\n",
      " |  ----------------------------------------------------------------------\n",
      " |  Class methods inherited from builtins.dict:\n",
      " |\n",
      " |  __class_getitem__(...) from builtins.type\n",
      " |      See PEP 585\n",
      " |\n",
      " |  ----------------------------------------------------------------------\n",
      " |  Static methods inherited from builtins.dict:\n",
      " |\n",
      " |  __new__(*args, **kwargs) from builtins.type\n",
      " |      Create and return a new object.  See help(type) for accurate signature.\n",
      "\n"
     ]
    }
   ],
   "source": [
    "help(Counter)"
   ]
  },
  {
   "cell_type": "code",
   "execution_count": 25,
   "id": "ee16dc0c-229c-4ccc-ac43-a7c90e2414be",
   "metadata": {},
   "outputs": [
    {
     "data": {
      "text/plain": [
       "0"
      ]
     },
     "execution_count": 25,
     "metadata": {},
     "output_type": "execute_result"
    }
   ],
   "source": [
    "c['q']"
   ]
  },
  {
   "cell_type": "code",
   "execution_count": 30,
   "id": "a565e896-d6e9-4619-9e13-55e34e476c5c",
   "metadata": {},
   "outputs": [],
   "source": [
    "import math"
   ]
  },
  {
   "cell_type": "code",
   "execution_count": 31,
   "id": "78c90b29-3f7e-4b8c-a9ba-6be80af5793c",
   "metadata": {},
   "outputs": [
    {
     "data": {
      "text/plain": [
       "3.141592653589793"
      ]
     },
     "execution_count": 31,
     "metadata": {},
     "output_type": "execute_result"
    }
   ],
   "source": [
    "math.pi"
   ]
  },
  {
   "cell_type": "code",
   "execution_count": 32,
   "id": "bb4644a0-9117-4b00-9d8d-0236851795e1",
   "metadata": {},
   "outputs": [],
   "source": [
    "math.pi  = 2"
   ]
  },
  {
   "cell_type": "code",
   "execution_count": 49,
   "id": "9f05ef36-954d-46bd-b7bb-383a7f494048",
   "metadata": {},
   "outputs": [],
   "source": [
    "class Rectangle():\n",
    "    def __str__(self):\n",
    "        return \"rect\"\n",
    "\n",
    "class Ellipse():\n",
    "    def __str__(self):\n",
    "        return \"ell\"\n",
    "        \n",
    "class Symmetric():\n",
    "    def __str__(self):\n",
    "        return \"sym\"\n",
    "\n",
    "class Circle(Ellipse, Symmetric):\n",
    "    pass\n",
    "\n",
    "class Square(Symmetric,Rectangle):\n",
    "    pass\n",
    "\n"
   ]
  },
  {
   "cell_type": "code",
   "execution_count": 50,
   "id": "248bb136-fedd-4bf3-b253-e13746cfeb8c",
   "metadata": {},
   "outputs": [
    {
     "name": "stdout",
     "output_type": "stream",
     "text": [
      "sym\n"
     ]
    }
   ],
   "source": [
    "s = Square()\n",
    "print(s)"
   ]
  },
  {
   "cell_type": "code",
   "execution_count": null,
   "id": "4b4ee765-19e5-44ca-872c-746166aff102",
   "metadata": {},
   "outputs": [],
   "source": []
  },
  {
   "cell_type": "code",
   "execution_count": 1,
   "id": "88267e75-64df-4b84-976b-0042bd8c2cae",
   "metadata": {},
   "outputs": [
    {
     "name": "stdout",
     "output_type": "stream",
     "text": [
      "Welcome to Python 3.12's help utility! If this is your first time using\n",
      "Python, you should definitely check out the tutorial at\n",
      "https://docs.python.org/3.12/tutorial/.\n",
      "\n",
      "Enter the name of any module, keyword, or topic to get help on writing\n",
      "Python programs and using Python modules.  To get a list of available\n",
      "modules, keywords, symbols, or topics, enter \"modules\", \"keywords\",\n",
      "\"symbols\", or \"topics\".\n",
      "\n",
      "Each module also comes with a one-line summary of what it does; to list\n",
      "the modules whose name or summary contain a given string such as \"spam\",\n",
      "enter \"modules spam\".\n",
      "\n",
      "To quit this help utility and return to the interpreter,\n",
      "enter \"q\" or \"quit\".\n",
      "\n"
     ]
    },
    {
     "name": "stdin",
     "output_type": "stream",
     "text": [
      "help>  topics\n"
     ]
    },
    {
     "name": "stdout",
     "output_type": "stream",
     "text": [
      "\n",
      "Here is a list of available topics.  Enter any topic name to get more help.\n",
      "\n",
      "ASSERTION           DELETION            LOOPING             SHIFTING\n",
      "ASSIGNMENT          DICTIONARIES        MAPPINGMETHODS      SLICINGS\n",
      "ATTRIBUTEMETHODS    DICTIONARYLITERALS  MAPPINGS            SPECIALATTRIBUTES\n",
      "ATTRIBUTES          DYNAMICFEATURES     METHODS             SPECIALIDENTIFIERS\n",
      "AUGMENTEDASSIGNMENT ELLIPSIS            MODULES             SPECIALMETHODS\n",
      "BASICMETHODS        EXCEPTIONS          NAMESPACES          STRINGMETHODS\n",
      "BINARY              EXECUTION           NONE                STRINGS\n",
      "BITWISE             EXPRESSIONS         NUMBERMETHODS       SUBSCRIPTS\n",
      "BOOLEAN             FLOAT               NUMBERS             TRACEBACKS\n",
      "CALLABLEMETHODS     FORMATTING          OBJECTS             TRUTHVALUE\n",
      "CALLS               FRAMEOBJECTS        OPERATORS           TUPLELITERALS\n",
      "CLASSES             FRAMES              PACKAGES            TUPLES\n",
      "CODEOBJECTS         FUNCTIONS           POWER               TYPEOBJECTS\n",
      "COMPARISON          IDENTIFIERS         PRECEDENCE          TYPES\n",
      "COMPLEX             IMPORTING           PRIVATENAMES        UNARY\n",
      "CONDITIONAL         INTEGER             RETURNING           UNICODE\n",
      "CONTEXTMANAGERS     LISTLITERALS        SCOPING             \n",
      "CONVERSIONS         LISTS               SEQUENCEMETHODS     \n",
      "DEBUGGING           LITERALS            SEQUENCES           \n",
      "\n"
     ]
    },
    {
     "name": "stdin",
     "output_type": "stream",
     "text": [
      "help>  METHODS\n"
     ]
    },
    {
     "name": "stdout",
     "output_type": "stream",
     "text": [
      "Methods\n",
      "*******\n",
      "\n",
      "Methods are functions that are called using the attribute notation.\n",
      "There are two flavors: built-in methods (such as \"append()\" on lists)\n",
      "and class instance method. Built-in methods are described with the\n",
      "types that support them.\n",
      "\n",
      "If you access a method (a function defined in a class namespace)\n",
      "through an instance, you get a special object: a *bound method* (also\n",
      "called instance method) object. When called, it will add the \"self\"\n",
      "argument to the argument list.  Bound methods have two special read-\n",
      "only attributes: \"m.__self__\" is the object on which the method\n",
      "operates, and \"m.__func__\" is the function implementing the method.\n",
      "Calling \"m(arg-1, arg-2, ..., arg-n)\" is completely equivalent to\n",
      "calling \"m.__func__(m.__self__, arg-1, arg-2, ..., arg-n)\".\n",
      "\n",
      "Like function objects, bound method objects support getting arbitrary\n",
      "attributes.  However, since method attributes are actually stored on\n",
      "the underlying function object (\"method.__func__\"), setting method\n",
      "attributes on bound methods is disallowed.  Attempting to set an\n",
      "attribute on a method results in an \"AttributeError\" being raised.  In\n",
      "order to set a method attribute, you need to explicitly set it on the\n",
      "underlying function object:\n",
      "\n",
      "   >>> class C:\n",
      "   ...     def method(self):\n",
      "   ...         pass\n",
      "   ...\n",
      "   >>> c = C()\n",
      "   >>> c.method.whoami = 'my name is method'  # can't set on the method\n",
      "   Traceback (most recent call last):\n",
      "     File \"<stdin>\", line 1, in <module>\n",
      "   AttributeError: 'method' object has no attribute 'whoami'\n",
      "   >>> c.method.__func__.whoami = 'my name is method'\n",
      "   >>> c.method.whoami\n",
      "   'my name is method'\n",
      "\n",
      "See Instance methods for more information.\n",
      "\n",
      "Related help topics: class, def, CLASSES, TYPES\n",
      "\n"
     ]
    },
    {
     "name": "stdin",
     "output_type": "stream",
     "text": [
      "help>  \n"
     ]
    },
    {
     "name": "stdout",
     "output_type": "stream",
     "text": [
      "\n",
      "You are now leaving help and returning to the Python interpreter.\n",
      "If you want to ask for help on a particular object directly from the\n",
      "interpreter, you can type \"help(object)\".  Executing \"help('string')\"\n",
      "has the same effect as typing a particular string at the help> prompt.\n"
     ]
    }
   ],
   "source": [
    "help()"
   ]
  },
  {
   "cell_type": "code",
   "execution_count": null,
   "id": "012ec821-7333-49d9-be21-223ffa484847",
   "metadata": {},
   "outputs": [],
   "source": []
  }
 ],
 "metadata": {
  "kernelspec": {
   "display_name": "Python 3 (ipykernel)",
   "language": "python",
   "name": "python3"
  },
  "language_info": {
   "codemirror_mode": {
    "name": "ipython",
    "version": 3
   },
   "file_extension": ".py",
   "mimetype": "text/x-python",
   "name": "python",
   "nbconvert_exporter": "python",
   "pygments_lexer": "ipython3",
   "version": "3.12.2"
  }
 },
 "nbformat": 4,
 "nbformat_minor": 5
}
