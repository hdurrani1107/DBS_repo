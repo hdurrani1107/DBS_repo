{
  "cells": [
    {
      "cell_type": "markdown",
      "id": "53a370e3-c2c0-4a59-b2b8-f805b88ffa0b",
      "metadata": {
        "id": "53a370e3-c2c0-4a59-b2b8-f805b88ffa0b"
      },
      "source": [
        "# EC602 Fall 2024\n",
        "\n",
        "# Assignment Three\n",
        "\n",
        "Posted:  October 1, 2024 (finalized Oct 3)\n",
        "\n",
        "Due:  October 22, 2024 (no class on Oct 15th)\n",
        "\n",
        "\n",
        "Details\n",
        "-------\n",
        "\n",
        "Groups of 1, 2, or 3\n",
        "\n",
        "Assignment value: one of ten required weekly assignments.\n",
        "\n",
        "\n",
        "Assignment Description\n",
        "----------------------\n",
        "\n",
        "In this assignment, we explore the capabilities of number formats (for integers and real numbers)\n",
        "with a focus on capabilities, storage and computation.\n"
      ]
    },
    {
      "cell_type": "markdown",
      "id": "c7d2a303-c2d7-4261-88ba-6c1579c883a5",
      "metadata": {
        "id": "c7d2a303-c2d7-4261-88ba-6c1579c883a5"
      },
      "source": [
        "# Task 1: Exploring Numbers"
      ]
    },
    {
      "cell_type": "markdown",
      "id": "99402c08-32b5-417d-b942-ab268c77ff73",
      "metadata": {
        "id": "99402c08-32b5-417d-b942-ab268c77ff73"
      },
      "source": [
        "## Part a: integer capabilities"
      ]
    },
    {
      "cell_type": "markdown",
      "id": "fe4a3e93-d3a8-40ca-878d-b57670aec81a",
      "metadata": {
        "id": "fe4a3e93-d3a8-40ca-878d-b57670aec81a"
      },
      "source": [
        "Generate a Pandas DataFrame with the following columns:\n",
        "\n",
        "- the number of bytes required in memory for this data type\n",
        "- the largest possible value storable in this data type (N)\n",
        "- the number of seconds $T_s$ your computer will take to count from 0 up to this number N\n",
        "- the number of years $T_s$ represents\n",
        "\n",
        "You should do this for all signed and unsigned numpy integer types.\n",
        "\n",
        "Note: to calculate $T_s$, you may need to estimate the value using extrapolation."
      ]
    },
    {
      "cell_type": "code",
      "execution_count": null,
      "id": "5dc41412-c061-4b7b-9c49-aeffa8834998",
      "metadata": {
        "id": "5dc41412-c061-4b7b-9c49-aeffa8834998",
        "outputId": "d4985b55-7543-4ec9-bf63-49a7d9885779"
      },
      "outputs": [
        {
          "name": "stdout",
          "output_type": "stream",
          "text": [
            "255\n",
            "65535\n",
            "4294967295\n",
            "18446744073709551615\n"
          ]
        }
      ],
      "source": [
        "# Answer 1a\n",
        "\n",
        "# unsigned\n",
        "for x in [8,16,32,64]:\n",
        "    print(2**x-1)\n",
        "\n",
        "\n",
        "\n"
      ]
    },
    {
      "cell_type": "code",
      "execution_count": null,
      "id": "c1d78acc-3d9e-40c9-bccd-2a18fe1f3415",
      "metadata": {
        "id": "c1d78acc-3d9e-40c9-bccd-2a18fe1f3415",
        "outputId": "e39a2788-5066-4cba-f2dc-631c806169a0"
      },
      "outputs": [
        {
          "data": {
            "text/plain": [
              "584.942417355072"
            ]
          },
          "execution_count": 3,
          "metadata": {},
          "output_type": "execute_result"
        }
      ],
      "source": [
        "2**64 / 1e9 /60/60/24/365"
      ]
    },
    {
      "cell_type": "code",
      "execution_count": null,
      "id": "e-FTXBhN3ox_",
      "metadata": {
        "colab": {
          "base_uri": "https://localhost:8080/",
          "height": 211
        },
        "id": "e-FTXBhN3ox_",
        "outputId": "e9650329-3901-4b94-a971-876d3a21becd"
      },
      "outputs": [
        {
          "ename": "KeyboardInterrupt",
          "evalue": "",
          "output_type": "error",
          "traceback": [
            "\u001b[0;31m---------------------------------------------------------------------------\u001b[0m",
            "\u001b[0;31mKeyboardInterrupt\u001b[0m                         Traceback (most recent call last)",
            "\u001b[0;32m<ipython-input-4-0d2b28fd1e3c>\u001b[0m in \u001b[0;36m<cell line: 14>\u001b[0;34m()\u001b[0m\n\u001b[1;32m     17\u001b[0m     \u001b[0mstart_time\u001b[0m \u001b[0;34m=\u001b[0m \u001b[0mtime\u001b[0m\u001b[0;34m.\u001b[0m\u001b[0mtime\u001b[0m\u001b[0;34m(\u001b[0m\u001b[0;34m)\u001b[0m\u001b[0;34m\u001b[0m\u001b[0;34m\u001b[0m\u001b[0m\n\u001b[1;32m     18\u001b[0m     \u001b[0;32mfor\u001b[0m \u001b[0ma\u001b[0m \u001b[0;32min\u001b[0m \u001b[0mrange\u001b[0m\u001b[0;34m(\u001b[0m\u001b[0mmax_value\u001b[0m\u001b[0;34m)\u001b[0m\u001b[0;34m:\u001b[0m\u001b[0;34m\u001b[0m\u001b[0;34m\u001b[0m\u001b[0m\n\u001b[0;32m---> 19\u001b[0;31m         \u001b[0ma\u001b[0m \u001b[0;34m=\u001b[0m \u001b[0ma\u001b[0m \u001b[0;34m+\u001b[0m \u001b[0;36m1\u001b[0m\u001b[0;34m\u001b[0m\u001b[0;34m\u001b[0m\u001b[0m\n\u001b[0m\u001b[1;32m     20\u001b[0m     \u001b[0mTs\u001b[0m \u001b[0;34m=\u001b[0m \u001b[0mtime\u001b[0m\u001b[0;34m.\u001b[0m\u001b[0mtime\u001b[0m\u001b[0;34m(\u001b[0m\u001b[0;34m)\u001b[0m \u001b[0;34m-\u001b[0m \u001b[0mstart_time\u001b[0m\u001b[0;34m\u001b[0m\u001b[0;34m\u001b[0m\u001b[0m\n\u001b[1;32m     21\u001b[0m     \u001b[0mTSYear\u001b[0m \u001b[0;34m=\u001b[0m \u001b[0mTs\u001b[0m \u001b[0;34m/\u001b[0m \u001b[0;34m(\u001b[0m\u001b[0;36m3600\u001b[0m\u001b[0;34m/\u001b[0m\u001b[0;36m24\u001b[0m\u001b[0;34m/\u001b[0m\u001b[0;36m365\u001b[0m\u001b[0;34m)\u001b[0m\u001b[0;34m\u001b[0m\u001b[0;34m\u001b[0m\u001b[0m\n",
            "\u001b[0;31mKeyboardInterrupt\u001b[0m: "
          ]
        }
      ],
      "source": [
        "import time\n",
        "import numpy as np\n",
        "import pandas as pd\n",
        "start_time = time.time()\n",
        "\n",
        "types = ['int8', 'int16', 'int32', 'int64']\n",
        "typesize = [1,2,4,8]\n",
        "\n",
        "df = pd.DataFrame(data, columns = ['Datatypes','Numbers of Bytes Required','Largest Possible Value','Number of seconds from 0', 'Number of Years'])\n"
      ]
    },
    {
      "cell_type": "code",
      "execution_count": null,
      "id": "4Lbb1U-f2lrD",
      "metadata": {
        "colab": {
          "base_uri": "https://localhost:8080/"
        },
        "id": "4Lbb1U-f2lrD",
        "outputId": "40288a6a-0191-4bd1-ed19-4c5a0f34f5f3"
      },
      "outputs": [
        {
          "name": "stdout",
          "output_type": "stream",
          "text": [
            "  Data Type  Bytes Required         Max Value (N)  Time to Count (seconds)  \\\n",
            "0      int8               1                   127             1.270000e-06   \n",
            "1     uint8               1                   255             2.550000e-06   \n",
            "2     int16               2                 32767             3.276700e-04   \n",
            "3    uint16               2                 65535             6.553500e-04   \n",
            "4     int32               4            2147483647             2.147484e+01   \n",
            "5    uint32               4            4294967295             4.294967e+01   \n",
            "6     int64               8   9223372036854775807             9.223372e+10   \n",
            "7    uint64               8  18446744073709551615             1.844674e+11   \n",
            "\n",
            "   Time to Count (years)  \n",
            "0           4.027144e-14  \n",
            "1           8.085997e-14  \n",
            "2           1.039035e-11  \n",
            "3           2.078101e-11  \n",
            "4           6.809626e-07  \n",
            "5           1.361925e-06  \n",
            "6           2.924712e+03  \n",
            "7           5.849424e+03  \n"
          ]
        }
      ],
      "source": [
        "import numpy as np\n",
        "import pandas as pd\n",
        "import time\n",
        "\n",
        "data = []\n",
        "types = ['int8', 'uint8', 'int16', 'uint16', 'int32', 'uint32', 'int64', 'uint64']\n",
        "\n",
        "\n",
        "count_rate_per_sec = 1e8\n",
        "\n",
        "for t in types:\n",
        "    datatype = np.dtype(t)\n",
        "    Bytes = datatype.itemsize\n",
        "\n",
        "    if 'u' not in t:\n",
        "        max_value = (2 ** (Bytes * 8 - 1)) - 1\n",
        "    else:\n",
        "        max_value = (2 ** (Bytes * 8)) - 1\n",
        "\n",
        "    TS = max_value / count_rate_per_sec\n",
        "\n",
        "    TY = TS / (60 * 60 * 24 * 365)\n",
        "\n",
        "    data.append([t, Bytes, max_value, TS, TY])\n",
        "\n",
        "df = pd.DataFrame(data, columns=['Data Type', 'Bytes Required', 'Max Value (N)', 'Time to Count (seconds)', 'Time to Count (years)'])\n",
        "\n",
        "print(df)\n"
      ]
    },
    {
      "cell_type": "markdown",
      "id": "594b2c89-405a-4454-bf81-f8c87e44c177",
      "metadata": {
        "id": "594b2c89-405a-4454-bf81-f8c87e44c177"
      },
      "source": [
        "## Part b: integer underflow and overflow\n",
        "\n",
        "Write functions `underflow_int` and `overflow_int` that will\n",
        "generate integer underflows (creation of a number that is too small) and overflows (creation of a number that is too large) respectively.\n",
        "\n",
        "The function should return the result in the same type that was passed into it."
      ]
    },
    {
      "cell_type": "code",
      "execution_count": 3,
      "id": "3fb4cefd-c727-4dfd-ae16-7d367f9ab535",
      "metadata": {
        "colab": {
          "base_uri": "https://localhost:8080/"
        },
        "id": "3fb4cefd-c727-4dfd-ae16-7d367f9ab535",
        "outputId": "c37d01f6-7e29-4417-97bd-dbdd88e9eee9"
      },
      "outputs": [
        {
          "output_type": "execute_result",
          "data": {
            "text/plain": [
              "3"
            ]
          },
          "metadata": {},
          "execution_count": 3
        }
      ],
      "source": [
        "# Answer 1b\n",
        "\n",
        "def underflow_int(types = ):\n",
        "   max = (1 << (bits - 1)) - 1\n",
        "   min = -(1 << (bits - 1))\n",
        "   result = value + 1\n",
        "   if result > max:\n",
        "        result = min + (result - max - 1)\n",
        "   return result\n",
        "   pass\n",
        "\n",
        "\n",
        "def overflow_int(value, bits = 32):\n",
        "   max = (1 << (bits - 1)) - 1\n",
        "   min = -(1 << (bits - 1))\n",
        "   result = value + 1\n",
        "   if result < min:\n",
        "        result = max - (min - result - 1)\n",
        "   return result\n",
        "   pass\n",
        "\n",
        "print (overflow_int())"
      ]
    },
    {
      "cell_type": "markdown",
      "id": "104a8188-ae56-46e6-8621-6b1557ac64ee",
      "metadata": {
        "id": "104a8188-ae56-46e6-8621-6b1557ac64ee"
      },
      "source": [
        "## Part c: float capabilities\n",
        "\n",
        "\n",
        "Generate a Pandas DataFrame showing the capabilities of each of `numpy` float data types (-16,-32, and 64-bit precision)\n",
        "\n",
        "For each data type, generate the following columns:\n",
        "\n",
        "- the number of bytes required in memory for this data type\n",
        "- the largest possible (non-infinite) value representable in this data type.\n",
        "- the smallest possible (positive) value representable in this data type.\n",
        "- the first (smallest positive) integer that is not representable in this data type.\n",
        "- the approximate number of decimal digits of precision provided by this data type.\n",
        "\n",
        "  "
      ]
    },
    {
      "cell_type": "code",
      "source": [
        "import numpy as np\n",
        "import pandas as pd\n",
        "\n",
        "data = []\n",
        "types = ['float16', 'float32', 'float64']\n",
        "\n",
        "for t in types:\n",
        "    datatype = np.dtype(t)\n",
        "    Bytes = datatype.itemsize\n",
        "\n",
        "    max_value = np.finfo(datatype).max\n",
        "    min_value = np.finfo(datatype).min\n",
        "\n",
        "\n",
        "    # Find the first unrepresentable integer\n",
        "\n",
        "    min_unrepresentable_value = min_value - 1\n",
        "\n",
        "    precision = np.finfo(datatype).precision\n",
        "\n",
        "    data.append([t, Bytes, max_value, min_value, min_unrepresentable_value, precision])\n",
        "\n",
        "df = pd.DataFrame(data, columns=['Data Type', 'Bytes Required', 'Max Value', 'Min Positive Value', 'First Unrepresentable Integer', 'Precision (Decimal Digits)'])\n",
        "\n",
        "print(df)"
      ],
      "metadata": {
        "colab": {
          "base_uri": "https://localhost:8080/"
        },
        "id": "6otUymGTs2uC",
        "outputId": "7728b4e3-faeb-4112-8461-5ea0caa5e28f"
      },
      "id": "6otUymGTs2uC",
      "execution_count": 2,
      "outputs": [
        {
          "output_type": "stream",
          "name": "stdout",
          "text": [
            "  Data Type  Bytes Required      Max Value  Min Positive Value  \\\n",
            "0   float16               2   6.550400e+04       -6.550400e+04   \n",
            "1   float32               4   3.402823e+38       -3.402823e+38   \n",
            "2   float64               8  1.797693e+308      -1.797693e+308   \n",
            "\n",
            "   First Unrepresentable Integer  Precision (Decimal Digits)  \n",
            "0                  -6.550500e+04                           3  \n",
            "1                  -3.402823e+38                           6  \n",
            "2                 -1.797693e+308                          15  \n"
          ]
        }
      ]
    },
    {
      "cell_type": "code",
      "execution_count": 1,
      "id": "d2db5de7-6dc1-4d1b-9c65-f4843b17e872",
      "metadata": {
        "colab": {
          "base_uri": "https://localhost:8080/",
          "height": 245
        },
        "id": "d2db5de7-6dc1-4d1b-9c65-f4843b17e872",
        "outputId": "60922f1c-79fd-4062-d0c6-6765650c8901"
      },
      "outputs": [
        {
          "metadata": {
            "tags": null
          },
          "name": "stderr",
          "output_type": "stream",
          "text": [
            "<ipython-input-1-fdf0f8f9e628>:18: RuntimeWarning: overflow encountered in cast\n",
            "  np.array(i, dtype=t)\n"
          ]
        },
        {
          "output_type": "error",
          "ename": "KeyboardInterrupt",
          "evalue": "",
          "traceback": [
            "\u001b[0;31m---------------------------------------------------------------------------\u001b[0m",
            "\u001b[0;31mKeyboardInterrupt\u001b[0m                         Traceback (most recent call last)",
            "\u001b[0;32m<ipython-input-1-fdf0f8f9e628>\u001b[0m in \u001b[0;36m<cell line: 7>\u001b[0;34m()\u001b[0m\n\u001b[1;32m     16\u001b[0m     \u001b[0;32mwhile\u001b[0m \u001b[0;32mTrue\u001b[0m\u001b[0;34m:\u001b[0m\u001b[0;34m\u001b[0m\u001b[0;34m\u001b[0m\u001b[0m\n\u001b[1;32m     17\u001b[0m         \u001b[0;32mtry\u001b[0m\u001b[0;34m:\u001b[0m\u001b[0;34m\u001b[0m\u001b[0;34m\u001b[0m\u001b[0m\n\u001b[0;32m---> 18\u001b[0;31m             \u001b[0mnp\u001b[0m\u001b[0;34m.\u001b[0m\u001b[0marray\u001b[0m\u001b[0;34m(\u001b[0m\u001b[0mi\u001b[0m\u001b[0;34m,\u001b[0m \u001b[0mdtype\u001b[0m\u001b[0;34m=\u001b[0m\u001b[0mt\u001b[0m\u001b[0;34m)\u001b[0m\u001b[0;34m\u001b[0m\u001b[0;34m\u001b[0m\u001b[0m\n\u001b[0m\u001b[1;32m     19\u001b[0m             \u001b[0mi\u001b[0m \u001b[0;34m+=\u001b[0m \u001b[0;36m1\u001b[0m\u001b[0;34m\u001b[0m\u001b[0;34m\u001b[0m\u001b[0m\n\u001b[1;32m     20\u001b[0m         \u001b[0;32mexcept\u001b[0m \u001b[0mOverflowError\u001b[0m\u001b[0;34m:\u001b[0m\u001b[0;34m\u001b[0m\u001b[0;34m\u001b[0m\u001b[0m\n",
            "\u001b[0;31mKeyboardInterrupt\u001b[0m: "
          ]
        }
      ],
      "source": [
        "import numpy as np\n",
        "import pandas as pd\n",
        "\n",
        "data = []\n",
        "types = ['float16'] #, 'float32', 'float64'] #float data types (16, 32, 64 bits)\n",
        "\n",
        "for t in types:\n",
        "    datatype = np.dtype(t)\n",
        "    Bytes = datatype.itemsize\n",
        "\n",
        "    max_value = np.finfo(datatype).max\n",
        "    min_value = np.finfo(datatype).min\n",
        "\n",
        "    # Find the first unrepresentable integer\n",
        "    i = 1\n",
        "    while True:\n",
        "        try:\n",
        "            np.array(i, dtype=t)\n",
        "            i += 1\n",
        "        except OverflowError:\n",
        "            first_unrepresentable = i\n",
        "            break\n",
        "\n",
        "    precision = np.finfo(datatype).precision\n",
        "\n",
        "    data.append([t, Bytes, max_value, min_value, first_unrepresentable, precision])\n",
        "\n",
        "df = pd.DataFrame(data, columns=['Data Type', 'Bytes Required', 'Max Value', 'Min Positive Value', 'First Unrepresentable Integer', 'Precision (Decimal Digits)'])\n",
        "\n",
        "print(df)"
      ]
    },
    {
      "cell_type": "markdown",
      "id": "8c805872-3079-4fe2-a4f3-90a17da8ece9",
      "metadata": {
        "id": "8c805872-3079-4fe2-a4f3-90a17da8ece9"
      },
      "source": [
        "# Task 2: communicating / storing numbers\n",
        "\n",
        "In this task, we will compare the following methods for storing numbers to files:\n",
        "\n",
        "- `numpy` save/load functions\n",
        "- `numpy` savetxt/loadtxt functions\n",
        "- `json` dump/load functions\n",
        "- `pickle` dump/load functions\n",
        "- `CSV` file formats pandas.read_csv and pandas.DataFrame.to_csv"
      ]
    },
    {
      "cell_type": "markdown",
      "id": "89121d70-c48f-480f-ae62-f5629690cc8b",
      "metadata": {
        "id": "89121d70-c48f-480f-ae62-f5629690cc8b"
      },
      "source": [
        "## Part a: storage comparison function\n",
        "\n",
        "Write a function `store_array` that creates a numpy array, and then stores it to\n",
        "disk, reads it back, and calculates performance of the operation.\n",
        "\n",
        "The function accepts as input\n",
        "\n",
        "- the size of the array to create (N)\n",
        "- the number of dimensions to use (M) (the array will be N x N x ... N) <- M times\n",
        "- the data type to use (one of numpy: int16,int32,int64,float16,float32,float64)\n",
        "- a random number generator to employ to populate the array\n",
        "- the file name to store the result\n",
        "- the format to use: one of \"numpy\", \"txt\", \"json\", \"pickle\", and \"CSV\"\n",
        "\n",
        "\n",
        "The function should do the following tasks:\n",
        "\n",
        "\n",
        "- create the random array as specified.\n",
        "- store the file requested (time this operation)\n",
        "- read the values back from the file created (time this operation)\n",
        "- calculate the mean squared error of the result compared to the original.\n",
        "- delete the file created.\n",
        "\n",
        "\n",
        "The function returns:\n",
        "- the created array\n",
        "- the result read back from file\n",
        "- a dictionary with the save time, the load time, the file size (in bytes), and the MSE of the result\n",
        "\n"
      ]
    },
    {
      "cell_type": "code",
      "execution_count": 7,
      "id": "ae90741f-f6ae-45ee-b3ba-f2aebfbc06c0",
      "metadata": {
        "id": "ae90741f-f6ae-45ee-b3ba-f2aebfbc06c0",
        "colab": {
          "base_uri": "https://localhost:8080/",
          "height": 122
        },
        "outputId": "e539dd0b-0924-48e5-fc09-f024c4d37037"
      },
      "outputs": [
        {
          "output_type": "execute_result",
          "data": {
            "text/plain": [
              "'\\n# Step 3: Read the array back from disk\\n    start_load = time.time()\\n\\n    if dtype == \\'numpy\\':\\n        loaded_array = np.load(filename + \\'.npy\\')\\n    elif dtype == \\'txt\\':\\n        loaded_array = np.loadtxt(filename).reshape(shape)\\n    elif dtype == \\'json\\':\\n        with open(filename, \\'r\\') as f:\\n            loaded_array = np.array(json.load(f))\\n    elif dtype == \\'pickle\\':\\n        with open(filename, \\'rb\\') as f:\\n            loaded_array = pickle.load(f)\\n    elif dtype == \\'CSV\\':\\n        with open(filename, \\'r\\') as f:\\n            reader = csv.reader(f)\\n            loaded_array = np.array([row for row in reader], dtype=dtype).reshape(shape)\\n\\n\\n    if fileformat == \"numpy\":\\n\\n    elif fileformat == \"txt\":\\n\\n    elif fileformat == \"json\":\\n\\n    elif fileformat == \"pickle\":\\n\\n    elif fileformat == \"CSV\":\\n\\n    else\\n       raise ValueError(\"Invalid file format\")\\n\\n'"
            ],
            "application/vnd.google.colaboratory.intrinsic+json": {
              "type": "string"
            }
          },
          "metadata": {},
          "execution_count": 7
        }
      ],
      "source": [
        "# Answer 2a\n",
        "import numpy as np\n",
        "import json\n",
        "import pandas as pd\n",
        "import os\n",
        "import random\n",
        "import time\n",
        "import pickle\n",
        "\n",
        "def store_array(N, M, dtype, rnd, filename, fileformat):\n",
        "    A, Aretrieved = None, None\n",
        "    A = np.random.randint(np.iinfo(dtype).max, size=(N, M), dtype=dtype)\n",
        "    shape = A.shape\n",
        "    df = pd.DataFrame(A)\n",
        "\n",
        "    start_time = time.time()\n",
        "\n",
        "\n",
        "\n",
        "    if dtype == 'numpy':\n",
        "        np.save('rabdom_data', A)\n",
        "    elif dtype == 'txt':\n",
        "        np.savetxt('rabdom_data.txt', A.flatten())\n",
        "    elif dtype == 'json':\n",
        "        df.to_jason('rabdom_data.json', orient ='records')\n",
        "    elif dtype == 'pickle':            #not sure about this yet\n",
        "        with open('rabdom_data.csv', 'wb') as f:\n",
        "            pickle.dump(A, f)\n",
        "    elif dtype == 'CSV':\n",
        "        #df.to_csv('rabdom_data.csv', index=False) #maybe transforming to df isnt part of this\n",
        "        np.savetxt('rabdom_data.csv', A, delimiter=',')\n",
        "    else:\n",
        "        raise ValueError(\"Invalid data type, it has to be one of 'numpy','txt','json','pickle' or 'CSV'\")\n",
        "\n",
        "    save_time = time.time() - start_time\n",
        "\n",
        "#Read the array back from disk\n",
        "    read_time = time.time()\n",
        "    filename = 'rabdom_data'\n",
        "    if dtype == 'numpy':\n",
        "        Read_array = np.load(filename + '.npy')\n",
        "    elif dtype == 'txt':\n",
        "        Read_array = np.loadtxt(filename).reshape(shape)\n",
        "    elif dtype == 'json':\n",
        "        Read_array = pd.read_json(filename + '.json')\n",
        "        #with open(filename, 'r') as f:\n",
        "            #Read_array = np.array(json.load(f))\n",
        "    elif dtype == 'pickle':\n",
        "        with open(filename, 'rb') as f:\n",
        "           Read_array = pickle.load(f)\n",
        "    elif dtype == 'CSV':\n",
        "        Read_array = pd.read_csv('data_types.csv')\n",
        "\n",
        "    read_end = time.time() - read_time\n",
        "    #delete the file\n",
        "    if dtype == 'numpy':\n",
        "        os.remove(filename + '.npy')\n",
        "    elif dtype == 'txt':\n",
        "        os.remove(filename + '.txt')\n",
        "    elif dtype == 'json':\n",
        "        os.remove(filename + '.json')\n",
        "    elif dtype == 'pickle':\n",
        "        os.remove(filename)\n",
        "    elif dtype == 'CSV':\n",
        "        os.remove(filename + '.csv')\n",
        "\n",
        "    return A, Aretrieved, {\"save\":0,\"load\":0,\"size\":0,\"MSE\":0.0}\n",
        "\n",
        "\n"
      ]
    },
    {
      "cell_type": "markdown",
      "id": "a9c8c75f-ddc0-4e0d-89e3-a28e52d977fa",
      "metadata": {
        "id": "a9c8c75f-ddc0-4e0d-89e3-a28e52d977fa"
      },
      "source": [
        "## Part b: testing, results, commentary, visualization\n",
        "\n",
        "Write test and visualization code that uses `store_array` to compare and contrast the benefits of the various formats.\n",
        "\n",
        "You can also write code and/or text that describes other pros/cons of the various storage methods.\n"
      ]
    },
    {
      "cell_type": "code",
      "execution_count": null,
      "id": "521ded69-6800-4471-adf0-7132aed026b2",
      "metadata": {
        "id": "521ded69-6800-4471-adf0-7132aed026b2"
      },
      "outputs": [],
      "source": [
        "# Answer 2b (create as many code/markdown cells as you need here.\n",
        "\n",
        "\n"
      ]
    },
    {
      "cell_type": "code",
      "execution_count": null,
      "id": "2977b1f1-35db-493c-a921-17e9c66a27c5",
      "metadata": {
        "id": "2977b1f1-35db-493c-a921-17e9c66a27c5"
      },
      "outputs": [],
      "source": []
    },
    {
      "cell_type": "code",
      "execution_count": null,
      "id": "8136f46e-a4df-44cb-b477-dfd871416321",
      "metadata": {
        "id": "8136f46e-a4df-44cb-b477-dfd871416321"
      },
      "outputs": [],
      "source": []
    },
    {
      "cell_type": "markdown",
      "id": "c1eec43e-e886-4e94-b553-083950d8a4b4",
      "metadata": {
        "id": "c1eec43e-e886-4e94-b553-083950d8a4b4"
      },
      "source": [
        "# Task 3: computational issues\n",
        "\n",
        "This last part of the assignment is more open ended. Your task is to\n",
        "design, implement, test, visualize, and summarize a comparison\n",
        "of computational efficiencies of the four major integer types\n",
        "(int8, int16, int32, and int64) and the three major float types (float16, float32, and float64)\n",
        "\n",
        "You can compare between integer types but also integer vs float.\n",
        "\n",
        "Please also compare between numpy operations and python operations (with standard int and float types).\n",
        "\n",
        "As a result of your inquiries, you should generate tables and/or graphs\n",
        "(based on results of your code) that illustrate the differences.\n",
        "\n",
        "In particular, please focus on:\n",
        "- what impact does \"python code\" e.g. for loops, have on your calculations?\n",
        "- what kinds of array operations would be useful / most common for the data types in use?\n",
        "- does the size of the array matter (ranging from individual values, to kilo- mega- or giga- sized collections) to average calculation speed per element? If so, develop and test theories\n",
        "- are there parallelization / speedup tools available that change the results substantially?\n",
        "- does error handling make a difference (run time checks on overflow, etc)\n",
        "- can you compare speed benchmarks with other students in the course? What about AMD vs Intel vs Apple performance?\n"
      ]
    },
    {
      "cell_type": "code",
      "execution_count": null,
      "id": "cecbcfd3-92c8-437a-aea1-bdbeccc64e82",
      "metadata": {
        "id": "cecbcfd3-92c8-437a-aea1-bdbeccc64e82"
      },
      "outputs": [],
      "source": []
    }
  ],
  "metadata": {
    "colab": {
      "provenance": []
    },
    "kernelspec": {
      "display_name": "Python 3 (ipykernel)",
      "language": "python",
      "name": "python3"
    },
    "language_info": {
      "codemirror_mode": {
        "name": "ipython",
        "version": 3
      },
      "file_extension": ".py",
      "mimetype": "text/x-python",
      "name": "python",
      "nbconvert_exporter": "python",
      "pygments_lexer": "ipython3",
      "version": "3.12.2"
    }
  },
  "nbformat": 4,
  "nbformat_minor": 5
}