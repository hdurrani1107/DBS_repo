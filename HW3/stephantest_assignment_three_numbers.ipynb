{
  "cells": [
    {
      "cell_type": "markdown",
      "id": "53a370e3-c2c0-4a59-b2b8-f805b88ffa0b",
      "metadata": {
        "id": "53a370e3-c2c0-4a59-b2b8-f805b88ffa0b"
      },
      "source": [
        "# EC602 Fall 2024\n",
        "\n",
        "# Assignment Three\n",
        "\n",
        "Posted:  October 1, 2024 (finalized Oct 3)\n",
        "\n",
        "Due:  October 22, 2024 (no class on Oct 15th)\n",
        "\n",
        "\n",
        "Details\n",
        "-------\n",
        "\n",
        "Groups of 1, 2, or 3\n",
        "\n",
        "Assignment value: one of ten required weekly assignments.\n",
        "\n",
        "\n",
        "Assignment Description\n",
        "----------------------\n",
        "\n",
        "In this assignment, we explore the capabilities of number formats (for integers and real numbers)\n",
        "with a focus on capabilities, storage and computation.\n"
      ]
    },
    {
      "cell_type": "markdown",
      "id": "c7d2a303-c2d7-4261-88ba-6c1579c883a5",
      "metadata": {
        "id": "c7d2a303-c2d7-4261-88ba-6c1579c883a5"
      },
      "source": [
        "# Task 1: Exploring Numbers"
      ]
    },
    {
      "cell_type": "markdown",
      "id": "99402c08-32b5-417d-b942-ab268c77ff73",
      "metadata": {
        "id": "99402c08-32b5-417d-b942-ab268c77ff73"
      },
      "source": [
        "## Part a: integer capabilities"
      ]
    },
    {
      "cell_type": "markdown",
      "id": "fe4a3e93-d3a8-40ca-878d-b57670aec81a",
      "metadata": {
        "id": "fe4a3e93-d3a8-40ca-878d-b57670aec81a"
      },
      "source": [
        "Generate a Pandas DataFrame with the following columns:\n",
        "\n",
        "- the number of bytes required in memory for this data type\n",
        "- the largest possible value storable in this data type (N)\n",
        "- the number of seconds $T_s$ your computer will take to count from 0 up to this number N\n",
        "- the number of years $T_s$ represents\n",
        "\n",
        "You should do this for all signed and unsigned numpy integer types.\n",
        "\n",
        "Note: to calculate $T_s$, you may need to estimate the value using extrapolation."
      ]
    },
    {
      "cell_type": "code",
      "execution_count": 2,
      "id": "5dc41412-c061-4b7b-9c49-aeffa8834998",
      "metadata": {
        "id": "5dc41412-c061-4b7b-9c49-aeffa8834998",
        "outputId": "d4985b55-7543-4ec9-bf63-49a7d9885779"
      },
      "outputs": [
        {
          "name": "stdout",
          "output_type": "stream",
          "text": [
            "255\n",
            "65535\n",
            "4294967295\n",
            "18446744073709551615\n"
          ]
        }
      ],
      "source": [
        "# Answer 1a\n",
        "\n",
        "# unsigned\n",
        "for x in [8,16,32,64]:\n",
        "    print(2**x-1)\n",
        "\n",
        "\n",
        "\n"
      ]
    },
    {
      "cell_type": "code",
      "execution_count": 3,
      "id": "c1d78acc-3d9e-40c9-bccd-2a18fe1f3415",
      "metadata": {
        "id": "c1d78acc-3d9e-40c9-bccd-2a18fe1f3415",
        "outputId": "e39a2788-5066-4cba-f2dc-631c806169a0"
      },
      "outputs": [
        {
          "data": {
            "text/plain": [
              "584.942417355072"
            ]
          },
          "execution_count": 3,
          "metadata": {},
          "output_type": "execute_result"
        }
      ],
      "source": [
        "2**64 / 1e9 /60/60/24/365"
      ]
    },
    {
      "cell_type": "code",
      "execution_count": 4,
      "id": "e-FTXBhN3ox_",
      "metadata": {
        "colab": {
          "base_uri": "https://localhost:8080/",
          "height": 211
        },
        "id": "e-FTXBhN3ox_",
        "outputId": "e9650329-3901-4b94-a971-876d3a21becd"
      },
      "outputs": [
        {
          "ename": "NameError",
          "evalue": "name 'data' is not defined",
          "output_type": "error",
          "traceback": [
            "\u001b[0;31m---------------------------------------------------------------------------\u001b[0m",
            "\u001b[0;31mNameError\u001b[0m                                 Traceback (most recent call last)",
            "Cell \u001b[0;32mIn[4], line 10\u001b[0m\n\u001b[1;32m      6\u001b[0m types \u001b[38;5;241m=\u001b[39m [\u001b[38;5;124m'\u001b[39m\u001b[38;5;124mint8\u001b[39m\u001b[38;5;124m'\u001b[39m, \u001b[38;5;124m'\u001b[39m\u001b[38;5;124mint16\u001b[39m\u001b[38;5;124m'\u001b[39m, \u001b[38;5;124m'\u001b[39m\u001b[38;5;124mint32\u001b[39m\u001b[38;5;124m'\u001b[39m, \u001b[38;5;124m'\u001b[39m\u001b[38;5;124mint64\u001b[39m\u001b[38;5;124m'\u001b[39m]\n\u001b[1;32m      7\u001b[0m typesize \u001b[38;5;241m=\u001b[39m [\u001b[38;5;241m1\u001b[39m,\u001b[38;5;241m2\u001b[39m,\u001b[38;5;241m4\u001b[39m,\u001b[38;5;241m8\u001b[39m]\n\u001b[0;32m---> 10\u001b[0m df \u001b[38;5;241m=\u001b[39m pd\u001b[38;5;241m.\u001b[39mDataFrame(\u001b[43mdata\u001b[49m, columns \u001b[38;5;241m=\u001b[39m [\u001b[38;5;124m'\u001b[39m\u001b[38;5;124mDatatypes\u001b[39m\u001b[38;5;124m'\u001b[39m,\u001b[38;5;124m'\u001b[39m\u001b[38;5;124mNumbers of Bytes Required\u001b[39m\u001b[38;5;124m'\u001b[39m,\u001b[38;5;124m'\u001b[39m\u001b[38;5;124mLargest Possible Value\u001b[39m\u001b[38;5;124m'\u001b[39m,\u001b[38;5;124m'\u001b[39m\u001b[38;5;124mNumber of seconds from 0\u001b[39m\u001b[38;5;124m'\u001b[39m, \u001b[38;5;124m'\u001b[39m\u001b[38;5;124mNumber of Years\u001b[39m\u001b[38;5;124m'\u001b[39m])\n\u001b[1;32m     13\u001b[0m \u001b[38;5;124;03m'''\u001b[39;00m\n\u001b[1;32m     14\u001b[0m \u001b[38;5;124;03mdata = []\u001b[39;00m\n\u001b[1;32m     15\u001b[0m \u001b[38;5;124;03mmaxvalue = []\u001b[39;00m\n\u001b[0;32m   (...)\u001b[0m\n\u001b[1;32m     42\u001b[0m \u001b[38;5;124;03mprint(df)\u001b[39;00m\n\u001b[1;32m     43\u001b[0m \u001b[38;5;124;03m'''\u001b[39;00m\n",
            "\u001b[0;31mNameError\u001b[0m: name 'data' is not defined"
          ]
        }
      ],
      "source": [
        "import time\n",
        "import numpy as np\n",
        "import pandas as pd\n",
        "start_time = time.time()\n",
        "\n",
        "types = ['int8', 'int16', 'int32', 'int64']\n",
        "typesize = [1,2,4,8]\n",
        "\n",
        "\n",
        "df = pd.DataFrame(data, columns = ['Datatypes','Numbers of Bytes Required','Largest Possible Value','Number of seconds from 0', 'Number of Years'])\n",
        "\n",
        "\n",
        "'''\n",
        "data = []\n",
        "maxvalue = []\n",
        "TimeS = []\n",
        "TimeY = []\n",
        "\n",
        "for t in typesize:\n",
        "    max_value = (2 ** (t * 8)) - 1\n",
        "    maxvalue.append(max_value)\n",
        "    start_time = time.time()\n",
        "    for a in range(max_value):\n",
        "        a = a + 1\n",
        "    Ts = time.time() - start_time\n",
        "    TSYear = Ts / (3600/24/365)\n",
        "    TimeS.append(Ts)\n",
        "    TimeY.append(TSYear)\n",
        "    bytes_required = t\n",
        "    #data.append([bytes_required, max_value, Ts, TSYear])\n",
        "\n",
        "data.append([types, t, bytes_required, max_value, Ts, TSYear])\n",
        "\n",
        "df = pd.DataFrame({\n",
        "    'Types': types,\n",
        "    'Bytes Required': typesize,\n",
        "    'Max Value': maxvalue,\n",
        "    'Time to Count (seconds)': TimeS,\n",
        "    'Time to Count (years)': TimeY\n",
        "\n",
        "})\n",
        "print(df)\n",
        "'''"
      ]
    },
    {
      "cell_type": "code",
      "execution_count": null,
      "id": "4Lbb1U-f2lrD",
      "metadata": {
        "id": "4Lbb1U-f2lrD"
      },
      "outputs": [],
      "source": [
        "types = ['int8', 'uint8', 'int16', 'uint16', 'int32', 'uint32', 'int64', 'uint64']\n",
        "\n",
        "\n",
        "count_rate_per_sec = 1e9\n",
        "\n",
        "for t in types:\n",
        "    dtype = np.dtype(t)\n",
        "    bytes_required = dtype.itemsize\n",
        "\n",
        "    if 'int' in t and 'u' not in t:  # Signed integer\n",
        "        max_value = (2 ** (bytes_required * 8 - 1)) - 1\n",
        "    else:  # Unsigned integer\n",
        "        max_value = (2 ** (bytes_required * 8)) - 1\n",
        "\n",
        "    time_seconds = max_value / count_rate_per_sec\n",
        "\n",
        "    time_years = time_seconds / (60 * 60 * 24 * 365)\n",
        "\n",
        "    data.append([t, bytes_required, max_value, time_seconds, time_years])\n",
        "\n",
        "df = pd.DataFrame(data, columns=['Data Type', 'Bytes Required', 'Max Value (N)', 'Time to Count (seconds)', 'Time to Count (years)'])\n",
        "\n",
        "print(df)\n"
      ]
    },
    {
      "cell_type": "markdown",
      "id": "594b2c89-405a-4454-bf81-f8c87e44c177",
      "metadata": {
        "id": "594b2c89-405a-4454-bf81-f8c87e44c177"
      },
      "source": [
        "## Part b: integer underflow and overflow\n",
        "\n",
        "Write functions `underflow_int` and `overflow_int` that will\n",
        "generate integer underflows (creation of a number that is too small) and overflows (creation of a number that is too large) respectively.\n",
        "\n",
        "The function should return the result in the same type that was passed into it."
      ]
    },
    {
      "cell_type": "code",
      "execution_count": null,
      "id": "3fb4cefd-c727-4dfd-ae16-7d367f9ab535",
      "metadata": {
        "colab": {
          "base_uri": "https://localhost:8080/"
        },
        "id": "3fb4cefd-c727-4dfd-ae16-7d367f9ab535",
        "outputId": "52351e29-001c-4583-fe93-0ba5f77496bf"
      },
      "outputs": [],
      "source": [
        "# Answer 1b\n",
        "\n",
        "def underflow_int(value, bits = 32):\n",
        "   max = (1 << (bits - 1)) - 1\n",
        "   min = -(1 << (bits - 1))\n",
        "   result = value + 1\n",
        "   if result > max:\n",
        "        result = min + (result - max - 1)\n",
        "   return result\n",
        "   pass\n",
        "\n",
        "\n",
        "def overflow_int(value, bits = 32):\n",
        "   max = (1 << (bits - 1)) - 1\n",
        "   min = -(1 << (bits - 1))\n",
        "   result = value + 1\n",
        "   if result < min:\n",
        "        result = max - (min - result - 1)\n",
        "   return result\n",
        "   pass\n",
        "\n",
        "overflow_int(2)"
      ]
    },
    {
      "cell_type": "markdown",
      "id": "104a8188-ae56-46e6-8621-6b1557ac64ee",
      "metadata": {
        "id": "104a8188-ae56-46e6-8621-6b1557ac64ee"
      },
      "source": [
        "## Part c: float capabilities\n",
        "\n",
        "\n",
        "Generate a Pandas DataFrame showing the capabilities of each of `numpy` float data types (-16,-32, and 64-bit precision)\n",
        "\n",
        "For each data type, generate the following columns:\n",
        "\n",
        "- the number of bytes required in memory for this data type\n",
        "- the largest possible (non-infinite) value representable in this data type.\n",
        "- the smallest possible (positive) value representable in this data type.\n",
        "- the first (smallest positive) integer that is not representable in this data type.\n",
        "- the approximate number of decimal digits of precision provided by this data type.\n",
        "\n",
        "  "
      ]
    },
    {
      "cell_type": "code",
      "execution_count": null,
      "id": "349e223c-c8a6-4525-8fc8-febd0e8b969d",
      "metadata": {
        "id": "349e223c-c8a6-4525-8fc8-febd0e8b969d"
      },
      "outputs": [],
      "source": [
        "# Answer 1c\n",
        "# float capabilities 1a"
      ]
    },
    {
      "cell_type": "code",
      "execution_count": null,
      "id": "d2db5de7-6dc1-4d1b-9c65-f4843b17e872",
      "metadata": {
        "id": "d2db5de7-6dc1-4d1b-9c65-f4843b17e872"
      },
      "outputs": [],
      "source": []
    },
    {
      "cell_type": "code",
      "execution_count": null,
      "id": "09cdd307-28e5-4c19-a894-4adcfa2dd574",
      "metadata": {
        "id": "09cdd307-28e5-4c19-a894-4adcfa2dd574"
      },
      "outputs": [],
      "source": []
    },
    {
      "cell_type": "markdown",
      "id": "8c805872-3079-4fe2-a4f3-90a17da8ece9",
      "metadata": {
        "id": "8c805872-3079-4fe2-a4f3-90a17da8ece9"
      },
      "source": [
        "# Task 2: communicating / storing numbers\n",
        "\n",
        "In this task, we will compare the following methods for storing numbers to files:\n",
        "\n",
        "- `numpy` save/load functions\n",
        "- `numpy` savetxt/loadtxt functions\n",
        "- `json` dump/load functions\n",
        "- `pickle` dump/load functions\n",
        "- `CSV` file formats pandas.read_csv and pandas.DataFrame.to_csv"
      ]
    },
    {
      "cell_type": "markdown",
      "id": "89121d70-c48f-480f-ae62-f5629690cc8b",
      "metadata": {
        "id": "89121d70-c48f-480f-ae62-f5629690cc8b"
      },
      "source": [
        "## Part a: storage comparison function\n",
        "\n",
        "Write a function `store_array` that creates a numpy array, and then stores it to\n",
        "disk, reads it back, and calculates performance of the operation.\n",
        "\n",
        "The function accepts as input\n",
        "\n",
        "- the size of the array to create (N)\n",
        "- the number of dimensions to use (M) (the array will be N x N x ... N) <- M times\n",
        "- the data type to use (one of numpy: int16,int32,int64,float16,float32,float64)\n",
        "- a random number generator to employ to populate the array\n",
        "- the file name to store the result\n",
        "- the format to use: one of \"numpy\", \"txt\", \"json\", \"pickle\", and \"CSV\"\n",
        "\n",
        "\n",
        "The function should do the following tasks:\n",
        "\n",
        "\n",
        "- create the random array as specified.\n",
        "- store the file requested (time this operation)\n",
        "- read the values back from the file created (time this operation)\n",
        "- calculate the mean squared error of the result compared to the original.\n",
        "- delete the file created.\n",
        "\n",
        "\n",
        "The function returns:\n",
        "- the created array\n",
        "- the result read back from file\n",
        "- a dictionary with the save time, the load time, the file size (in bytes), and the MSE of the result\n",
        "\n"
      ]
    },
    {
      "cell_type": "code",
      "execution_count": null,
      "id": "ae90741f-f6ae-45ee-b3ba-f2aebfbc06c0",
      "metadata": {
        "id": "ae90741f-f6ae-45ee-b3ba-f2aebfbc06c0"
      },
      "outputs": [],
      "source": [
        "# Answer 2a\n",
        "\n",
        "def store_array(N, M, dtype, rnd, filename, fileformat):\n",
        "    A, Aretrieved = None, None\n",
        "\n",
        "\n",
        "\n",
        "\n",
        "    return A, Aretrieved, {\"save\":0,\"load\":0,\"size\":0,\"MSE\":0.0}\n",
        "\n",
        "\n"
      ]
    },
    {
      "cell_type": "markdown",
      "id": "a9c8c75f-ddc0-4e0d-89e3-a28e52d977fa",
      "metadata": {
        "id": "a9c8c75f-ddc0-4e0d-89e3-a28e52d977fa"
      },
      "source": [
        "## Part b: testing, results, commentary, visualization\n",
        "\n",
        "Write test and visualization code that uses `store_array` to compare and contrast the benefits of the various formats.\n",
        "\n",
        "You can also write code and/or text that describes other pros/cons of the various storage methods.\n"
      ]
    },
    {
      "cell_type": "code",
      "execution_count": null,
      "id": "521ded69-6800-4471-adf0-7132aed026b2",
      "metadata": {
        "id": "521ded69-6800-4471-adf0-7132aed026b2"
      },
      "outputs": [],
      "source": [
        "# Answer 2b (create as many code/markdown cells as you need here.\n",
        "\n",
        "\n"
      ]
    },
    {
      "cell_type": "code",
      "execution_count": null,
      "id": "2977b1f1-35db-493c-a921-17e9c66a27c5",
      "metadata": {
        "id": "2977b1f1-35db-493c-a921-17e9c66a27c5"
      },
      "outputs": [],
      "source": []
    },
    {
      "cell_type": "code",
      "execution_count": null,
      "id": "8136f46e-a4df-44cb-b477-dfd871416321",
      "metadata": {
        "id": "8136f46e-a4df-44cb-b477-dfd871416321"
      },
      "outputs": [],
      "source": []
    },
    {
      "cell_type": "markdown",
      "id": "c1eec43e-e886-4e94-b553-083950d8a4b4",
      "metadata": {
        "id": "c1eec43e-e886-4e94-b553-083950d8a4b4"
      },
      "source": [
        "# Task 3: computational issues\n",
        "\n",
        "This last part of the assignment is more open ended. Your task is to\n",
        "design, implement, test, visualize, and summarize a comparison\n",
        "of computational efficiencies of the four major integer types\n",
        "(int8, int16, int32, and int64) and the three major float types (float16, float32, and float64)\n",
        "\n",
        "You can compare between integer types but also integer vs float.\n",
        "\n",
        "Please also compare between numpy operations and python operations (with standard int and float types).\n",
        "\n",
        "As a result of your inquiries, you should generate tables and/or graphs\n",
        "(based on results of your code) that illustrate the differences.\n",
        "\n",
        "In particular, please focus on:\n",
        "- what impact does \"python code\" e.g. for loops, have on your calculations?\n",
        "- what kinds of array operations would be useful / most common for the data types in use?\n",
        "- does the size of the array matter (ranging from individual values, to kilo- mega- or giga- sized collections) to average calculation speed per element? If so, develop and test theories\n",
        "- are there parallelization / speedup tools available that change the results substantially?\n",
        "- does error handling make a difference (run time checks on overflow, etc)\n",
        "- can you compare speed benchmarks with other students in the course? What about AMD vs Intel vs Apple performance?\n"
      ]
    },
    {
      "cell_type": "code",
      "execution_count": null,
      "id": "cecbcfd3-92c8-437a-aea1-bdbeccc64e82",
      "metadata": {
        "id": "cecbcfd3-92c8-437a-aea1-bdbeccc64e82"
      },
      "outputs": [],
      "source": [
        "import numpy as np\n",
        "import time \n",
        "\n",
        "## Creates and mulitplies two matrices, times the process\n",
        "\n",
        "start = time.time()\n",
        "\n",
        "def random_hermitian_matrix(n):\n",
        "    \"\"\"Creates a random Hermitian matrix of size n x n.\"\"\"\n",
        "\n",
        "    # Create a random complex matrix\n",
        "    A = np.random.randn(n, n )\n",
        "    A = A.round(1)\n",
        "    # Make it Hermitian\n",
        "    # H = 0.5 * (A + A.conj().T)\n",
        "    \n",
        "\n",
        "    #print(A)\n",
        "    return A\n",
        "\n",
        "def multiply_matrices(A, B):\n",
        "    \"\"\"Multiplies two matrices.\"\"\"\n",
        "    return np.dot(A, B)\n",
        "\n",
        "# Example usage\n",
        "n = 1000\n",
        "HA = random_hermitian_matrix(n)\n",
        "HB = random_hermitian_matrix(n)\n",
        "\n",
        "result = multiply_matrices(HA, HB)\n",
        "\n",
        "np.savetxt('result.csv', result, delimiter=',')\n",
        "\n",
        "#E = np.linalg.eigvals(H)\n",
        "\n",
        "end = time.time()\n",
        "\n",
        "print(f\"Time taken: {end - start} seconds\")"
      ]
    },
    {
      "cell_type": "code",
      "execution_count": 8,
      "id": "42ee1699",
      "metadata": {},
      "outputs": [
        {
          "name": "stdout",
          "output_type": "stream",
          "text": [
            "Operation: Addition\n",
            "[(<class 'numpy.uint8'>, 0.0004172325134277344)]\n",
            "[(<class 'numpy.uint16'>, 0.0009129047393798828)]\n",
            "[(<class 'numpy.uint32'>, 0.001692056655883789)]\n",
            "[(<class 'numpy.uint64'>, 0.0041353702545166016)]\n",
            "[(<class 'numpy.int8'>, 0.0005939006805419922)]\n",
            "[(<class 'numpy.int16'>, 0.0009505748748779297)]\n",
            "[(<class 'numpy.int32'>, 0.0019321441650390625)]\n",
            "[(<class 'numpy.int64'>, 0.003675699234008789)]\n",
            "[(<class 'numpy.float16'>, 0.012711286544799805)]\n",
            "[(<class 'numpy.float32'>, 0.0017120838165283203)]\n",
            "[(<class 'numpy.float64'>, 0.0039014816284179688)]\n",
            "[(<class 'numpy.complex64'>, 0.0035800933837890625)]\n",
            "[(<class 'numpy.complex128'>, 0.01556706428527832)]\n",
            "Operation: Subtraction\n",
            "[(<class 'numpy.uint8'>, 0.0006334781646728516)]\n",
            "[(<class 'numpy.uint16'>, 0.0008971691131591797)]\n",
            "[(<class 'numpy.uint32'>, 0.0018162727355957031)]\n",
            "[(<class 'numpy.uint64'>, 0.0046045780181884766)]\n",
            "[(<class 'numpy.int8'>, 0.00039458274841308594)]\n",
            "[(<class 'numpy.int16'>, 0.0008723735809326172)]\n",
            "[(<class 'numpy.int32'>, 0.0017168521881103516)]\n",
            "[(<class 'numpy.int64'>, 0.003820180892944336)]\n",
            "[(<class 'numpy.float16'>, 0.014831066131591797)]\n",
            "[(<class 'numpy.float32'>, 0.0018587112426757812)]\n",
            "[(<class 'numpy.float64'>, 0.003420114517211914)]\n",
            "[(<class 'numpy.complex64'>, 0.003665447235107422)]\n",
            "[(<class 'numpy.complex128'>, 0.011877298355102539)]\n",
            "Operation: Multiplication\n",
            "[(<class 'numpy.uint8'>, 0.0006103515625)]\n",
            "[(<class 'numpy.uint16'>, 0.0009515285491943359)]\n",
            "[(<class 'numpy.uint32'>, 0.0016689300537109375)]\n",
            "[(<class 'numpy.uint64'>, 0.0041561126708984375)]\n",
            "[(<class 'numpy.int8'>, 0.0005595684051513672)]\n",
            "[(<class 'numpy.int16'>, 0.001049041748046875)]\n",
            "[(<class 'numpy.int32'>, 0.0022764205932617188)]\n",
            "[(<class 'numpy.int64'>, 0.0037949085235595703)]\n",
            "[(<class 'numpy.float16'>, 0.012406349182128906)]\n",
            "[(<class 'numpy.float32'>, 0.0016851425170898438)]\n",
            "[(<class 'numpy.float64'>, 0.003469705581665039)]\n",
            "[(<class 'numpy.complex64'>, 0.004106998443603516)]\n",
            "[(<class 'numpy.complex128'>, 0.015404462814331055)]\n",
            "Operation: Division\n",
            "[(<class 'numpy.uint8'>, 0.0037946701049804688)]\n",
            "[(<class 'numpy.uint16'>, 0.003659963607788086)]\n",
            "[(<class 'numpy.uint32'>, 0.005424022674560547)]\n",
            "[(<class 'numpy.uint64'>, 0.006951808929443359)]\n",
            "[(<class 'numpy.int8'>, 0.003958463668823242)]\n",
            "[(<class 'numpy.int16'>, 0.004255533218383789)]\n",
            "[(<class 'numpy.int32'>, 0.004464387893676758)]\n",
            "[(<class 'numpy.int64'>, 0.0058672428131103516)]\n",
            "[(<class 'numpy.float16'>, 0.013221979141235352)]\n",
            "[(<class 'numpy.float32'>, 0.001988649368286133)]\n",
            "[(<class 'numpy.float64'>, 0.0035369396209716797)]\n",
            "[(<class 'numpy.complex64'>, 0.005802631378173828)]\n",
            "[(<class 'numpy.complex128'>, 0.014644145965576172)]\n"
          ]
        }
      ],
      "source": [
        "import numpy as np\n",
        "import time\n",
        "import math\n",
        "\n",
        "def test_speed(data_type,n,o):\n",
        "    results = []\n",
        "    A = np.random.randint(1, 100, (n,n)).astype(data_type)\n",
        "    B = np.random.randint(1, 100, (n,n)).astype(data_type)\n",
        "\n",
        "    if o == \"Addition\":\n",
        "        start_time = time.time()\n",
        "        result = A + B\n",
        "        end_time = time.time()\n",
        "    elif o == \"Subtraction\":    \n",
        "        start_time = time.time()\n",
        "        result = A - B\n",
        "        end_time = time.time()\n",
        "    elif o == \"Multiplication\":   \n",
        "        start_time = time.time()\n",
        "        result = A * B\n",
        "        end_time = time.time()\n",
        "    elif o == \"Division\":\n",
        "        start_time = time.time()\n",
        "        result = A / B\n",
        "        end_time = time.time()\n",
        "    else:\n",
        "        pass\n",
        "    \n",
        "    elapsed_time = end_time - start_time\n",
        "    results.append((data_type, elapsed_time))\n",
        "\n",
        "    print(results)\n",
        "    \n",
        "typelist = [np.uint8, np.uint16, np.uint32, np.uint64,\n",
        "            np.int8, np.int16, np.int32, np.int64,\n",
        "            np.float16, np.float32, np.float64,\n",
        "            np.complex64, np.complex128]\n",
        "\n",
        "opslist = [\"Addition\", \"Subtraction\", \"Multiplication\", \"Division\"]\n",
        "# Size of arrays\n",
        "n = 2000\n",
        "\n",
        "for o in opslist:\n",
        "    print(f\"Operation: {o}\")\n",
        "    for t in typelist:       \n",
        "        test_speed(t,n,o)"
      ]
    }
  ],
  "metadata": {
    "colab": {
      "provenance": [],
      "toc_visible": true
    },
    "kernelspec": {
      "display_name": "Python 3",
      "language": "python",
      "name": "python3"
    },
    "language_info": {
      "codemirror_mode": {
        "name": "ipython",
        "version": 3
      },
      "file_extension": ".py",
      "mimetype": "text/x-python",
      "name": "python",
      "nbconvert_exporter": "python",
      "pygments_lexer": "ipython3",
      "version": "3.10.12"
    }
  },
  "nbformat": 4,
  "nbformat_minor": 5
}
